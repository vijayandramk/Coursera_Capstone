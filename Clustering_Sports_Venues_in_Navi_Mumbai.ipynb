{
 "cells": [
  {
   "cell_type": "markdown",
   "metadata": {},
   "source": [
    "# Clustering Sports Venues in Navi Mumbai"
   ]
  },
  {
   "cell_type": "markdown",
   "metadata": {},
   "source": [
    "#### Vijayandra Mahadik"
   ]
  },
  {
   "cell_type": "markdown",
   "metadata": {},
   "source": [
    "## Introduction"
   ]
  },
  {
   "cell_type": "markdown",
   "metadata": {},
   "source": [
    "The aim of the project is to explore different variety of options to play different sports within Navi Mumbai and then group places based on similar sport options they provide. We will use Foursquare API to find different sport venues for each place and then group these places together using K-means clustering algorithm. "
   ]
  },
  {
   "cell_type": "markdown",
   "metadata": {},
   "source": [
    "### Import Libraries"
   ]
  },
  {
   "cell_type": "code",
   "execution_count": 1,
   "metadata": {},
   "outputs": [
    {
     "name": "stdout",
     "output_type": "stream",
     "text": [
      "Libraries imported.\n"
     ]
    }
   ],
   "source": [
    "import numpy as np # library to handle data in a vectorized manner\n",
    "\n",
    "import pandas as pd # library for data analsysis\n",
    "pd.set_option('display.max_columns', None)\n",
    "pd.set_option('display.max_rows', None)\n",
    "\n",
    "import json # library to handle JSON files\n",
    "\n",
    "from geopy.geocoders import Nominatim # convert an address into latitude and longitude values\n",
    "\n",
    "import requests # library to handle requests\n",
    "from pandas.io.json import json_normalize # tranform JSON file into a pandas dataframe\n",
    "\n",
    "# Matplotlib and associated plotting modules\n",
    "import matplotlib.cm as cm\n",
    "import matplotlib.colors as colors\n",
    "import matplotlib.pyplot as plt\n",
    "import seaborn as sns\n",
    "\n",
    "# import k-means from clustering stage\n",
    "from sklearn.cluster import KMeans\n",
    "\n",
    "import folium # map rendering library\n",
    "\n",
    "import warnings\n",
    "warnings.filterwarnings('ignore')\n",
    "\n",
    "print('Libraries imported.')"
   ]
  },
  {
   "cell_type": "markdown",
   "metadata": {},
   "source": [
    "### Create Dataset"
   ]
  },
  {
   "cell_type": "markdown",
   "metadata": {},
   "source": [
    "#### Use geopy library to get the latitude and longitude values of Navi Mumbai."
   ]
  },
  {
   "cell_type": "code",
   "execution_count": 2,
   "metadata": {},
   "outputs": [
    {
     "name": "stdout",
     "output_type": "stream",
     "text": [
      "The geograpical coordinate of Navi Mumbai are 19.0308262, 73.0198537.\n"
     ]
    }
   ],
   "source": [
    "address = 'Navi Mumbai'\n",
    "\n",
    "geolocator = Nominatim(user_agent=\"nm_explorer\")\n",
    "location = geolocator.geocode(address)\n",
    "latitude = location.latitude\n",
    "longitude = location.longitude\n",
    "print('The geograpical coordinate of {} are {}, {}.'.format(address, latitude, longitude))"
   ]
  },
  {
   "cell_type": "markdown",
   "metadata": {},
   "source": [
    "Create a list of Stations in Navi Mumbai\n",
    "\n",
    "List of station names taken from https://en.wikipedia.org/wiki/Trans-Harbour_line_(Mumbai_Suburban_Railway) link"
   ]
  },
  {
   "cell_type": "markdown",
   "metadata": {},
   "source": [
    "**NOTE**: There are mulitple places with name Mansarovar hence to get Navi Mumbai specific location 'Mansarovar, Navi Mumbai' keyword is used"
   ]
  },
  {
   "cell_type": "code",
   "execution_count": 3,
   "metadata": {},
   "outputs": [],
   "source": [
    "NaviMumbai_Stations = [\n",
    "'Airoli',\n",
    "'Rabale',\n",
    "'Ghansoli',\n",
    "'Kopar Khairane',\n",
    "'Turbhe',\n",
    "'Sanpada',\n",
    "'Vashi',\n",
    "'Juinagar',\n",
    "'Nerul',\n",
    "'Seawoods-Darave',\n",
    "'CBD Belapur',\n",
    "'Kharghar',\n",
    "'Mansarovar, Navi Mumbai',\n",
    "'Khandeshwar'\n",
    "]"
   ]
  },
  {
   "cell_type": "markdown",
   "metadata": {},
   "source": [
    "#### Get Latitude and Longitude of each station and create pandas dataframe"
   ]
  },
  {
   "cell_type": "code",
   "execution_count": 4,
   "metadata": {},
   "outputs": [
    {
     "data": {
      "text/html": [
       "<div>\n",
       "<style scoped>\n",
       "    .dataframe tbody tr th:only-of-type {\n",
       "        vertical-align: middle;\n",
       "    }\n",
       "\n",
       "    .dataframe tbody tr th {\n",
       "        vertical-align: top;\n",
       "    }\n",
       "\n",
       "    .dataframe thead th {\n",
       "        text-align: right;\n",
       "    }\n",
       "</style>\n",
       "<table border=\"1\" class=\"dataframe\">\n",
       "  <thead>\n",
       "    <tr style=\"text-align: right;\">\n",
       "      <th></th>\n",
       "      <th>Neighborhood</th>\n",
       "      <th>Latitude</th>\n",
       "      <th>Longitude</th>\n",
       "    </tr>\n",
       "  </thead>\n",
       "  <tbody>\n",
       "    <tr>\n",
       "      <th>0</th>\n",
       "      <td>Airoli</td>\n",
       "      <td>19.158272</td>\n",
       "      <td>72.996709</td>\n",
       "    </tr>\n",
       "    <tr>\n",
       "      <th>1</th>\n",
       "      <td>Rabale</td>\n",
       "      <td>19.136637</td>\n",
       "      <td>73.002781</td>\n",
       "    </tr>\n",
       "    <tr>\n",
       "      <th>2</th>\n",
       "      <td>Ghansoli</td>\n",
       "      <td>19.119331</td>\n",
       "      <td>72.999510</td>\n",
       "    </tr>\n",
       "    <tr>\n",
       "      <th>3</th>\n",
       "      <td>Kopar Khairane</td>\n",
       "      <td>19.102852</td>\n",
       "      <td>73.003075</td>\n",
       "    </tr>\n",
       "    <tr>\n",
       "      <th>4</th>\n",
       "      <td>Turbhe</td>\n",
       "      <td>19.076165</td>\n",
       "      <td>73.017662</td>\n",
       "    </tr>\n",
       "    <tr>\n",
       "      <th>5</th>\n",
       "      <td>Sanpada</td>\n",
       "      <td>19.065977</td>\n",
       "      <td>73.009533</td>\n",
       "    </tr>\n",
       "    <tr>\n",
       "      <th>6</th>\n",
       "      <td>Vashi</td>\n",
       "      <td>19.075713</td>\n",
       "      <td>73.000354</td>\n",
       "    </tr>\n",
       "    <tr>\n",
       "      <th>7</th>\n",
       "      <td>Juinagar</td>\n",
       "      <td>19.056169</td>\n",
       "      <td>73.018245</td>\n",
       "    </tr>\n",
       "    <tr>\n",
       "      <th>8</th>\n",
       "      <td>Nerul</td>\n",
       "      <td>19.033612</td>\n",
       "      <td>73.018140</td>\n",
       "    </tr>\n",
       "    <tr>\n",
       "      <th>9</th>\n",
       "      <td>Seawoods-Darave</td>\n",
       "      <td>19.022192</td>\n",
       "      <td>73.018738</td>\n",
       "    </tr>\n",
       "    <tr>\n",
       "      <th>10</th>\n",
       "      <td>CBD Belapur</td>\n",
       "      <td>19.018987</td>\n",
       "      <td>73.039095</td>\n",
       "    </tr>\n",
       "    <tr>\n",
       "      <th>11</th>\n",
       "      <td>Kharghar</td>\n",
       "      <td>19.025773</td>\n",
       "      <td>73.059185</td>\n",
       "    </tr>\n",
       "    <tr>\n",
       "      <th>12</th>\n",
       "      <td>Mansarovar</td>\n",
       "      <td>19.016434</td>\n",
       "      <td>73.080655</td>\n",
       "    </tr>\n",
       "    <tr>\n",
       "      <th>13</th>\n",
       "      <td>Khandeshwar</td>\n",
       "      <td>19.007350</td>\n",
       "      <td>73.095283</td>\n",
       "    </tr>\n",
       "  </tbody>\n",
       "</table>\n",
       "</div>"
      ],
      "text/plain": [
       "       Neighborhood   Latitude  Longitude\n",
       "0            Airoli  19.158272  72.996709\n",
       "1            Rabale  19.136637  73.002781\n",
       "2          Ghansoli  19.119331  72.999510\n",
       "3    Kopar Khairane  19.102852  73.003075\n",
       "4            Turbhe  19.076165  73.017662\n",
       "5           Sanpada  19.065977  73.009533\n",
       "6             Vashi  19.075713  73.000354\n",
       "7          Juinagar  19.056169  73.018245\n",
       "8             Nerul  19.033612  73.018140\n",
       "9   Seawoods-Darave  19.022192  73.018738\n",
       "10      CBD Belapur  19.018987  73.039095\n",
       "11         Kharghar  19.025773  73.059185\n",
       "12       Mansarovar  19.016434  73.080655\n",
       "13      Khandeshwar  19.007350  73.095283"
      ]
     },
     "execution_count": 4,
     "metadata": {},
     "output_type": "execute_result"
    }
   ],
   "source": [
    "geolocator = Nominatim(user_agent=\"nm_explorer\")\n",
    "column_name = ['Neighborhood','Latitude','Longitude']\n",
    "neighborhoods = pd.DataFrame(columns = column_name)\n",
    "for address in NaviMumbai_Stations:\n",
    "    location = geolocator.geocode(address)\n",
    "    latitude = location.latitude\n",
    "    longitude = location.longitude\n",
    "    neighborhoods = neighborhoods.append({'Neighborhood': address,\n",
    "                                          'Latitude': latitude,\n",
    "                                          'Longitude': longitude}, ignore_index=True)\n",
    "\n",
    "neighborhoods['Neighborhood'].replace('Mansarovar, Navi Mumbai','Mansarovar', inplace=True)\n",
    "neighborhoods"
   ]
  },
  {
   "cell_type": "markdown",
   "metadata": {},
   "source": [
    "#### Create a map of Navi Mumbai with neighborhoods superimposed on top."
   ]
  },
  {
   "cell_type": "code",
   "execution_count": 5,
   "metadata": {},
   "outputs": [
    {
     "data": {
      "text/html": [
       "<div style=\"width:100%;\"><div style=\"position:relative;width:100%;height:0;padding-bottom:60%;\"><span style=\"color:#565656\">Make this Notebook Trusted to load map: File -> Trust Notebook</span><iframe src=\"about:blank\" style=\"position:absolute;width:100%;height:100%;left:0;top:0;border:none !important;\" data-html=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 onload=\"this.contentDocument.open();this.contentDocument.write(atob(this.getAttribute('data-html')));this.contentDocument.close();\" allowfullscreen webkitallowfullscreen mozallowfullscreen></iframe></div></div>"
      ],
      "text/plain": [
       "<folium.folium.Map at 0x7fae371566a0>"
      ]
     },
     "execution_count": 5,
     "metadata": {},
     "output_type": "execute_result"
    }
   ],
   "source": [
    "# create map of Navi Mumbai using latitude and longitude values\n",
    "map_navimumbai = folium.Map(location=[latitude, longitude], zoom_start=10)\n",
    "\n",
    "for lat, lng, neighborhood in zip(neighborhoods['Latitude'], neighborhoods['Longitude'], neighborhoods['Neighborhood']):\n",
    "    label = '{}'.format(neighborhood)\n",
    "    label = folium.Popup(label, parse_html=True)\n",
    "    folium.CircleMarker(\n",
    "        [lat, lng],\n",
    "        radius=5,\n",
    "        popup=label,\n",
    "        color='blue',\n",
    "        fill=True,\n",
    "        fill_color='#3186cc',\n",
    "        fill_opacity=0.7,\n",
    "        parse_html=False).add_to(map_navimumbai)  \n",
    "    \n",
    "map_navimumbai"
   ]
  },
  {
   "cell_type": "markdown",
   "metadata": {},
   "source": [
    "Utilize the Foursquare API to explore the neighborhoods and segment them."
   ]
  },
  {
   "cell_type": "markdown",
   "metadata": {},
   "source": [
    "#### Define Foursquare Credentials and Version"
   ]
  },
  {
   "cell_type": "code",
   "execution_count": 41,
   "metadata": {},
   "outputs": [],
   "source": [
    "CLIENT_ID = 'XXXXXX' # your Foursquare ID\n",
    "CLIENT_SECRET = 'XXXXXX' # your Foursquare Secret\n",
    "VERSION = '20180605' # Foursquare API version\n",
    "LIMIT = 250"
   ]
  },
  {
   "cell_type": "markdown",
   "metadata": {},
   "source": [
    "#### Create a function to use Foursquare API and get nearby 250 venues for each station with a radius of 1.5 Km"
   ]
  },
  {
   "cell_type": "markdown",
   "metadata": {},
   "source": [
    "We will search **Athletics & Sports** venues using ID: 4f4528bc4b90abdf24c9de85"
   ]
  },
  {
   "cell_type": "code",
   "execution_count": 7,
   "metadata": {},
   "outputs": [],
   "source": [
    "def getNearbyVenues(names, latitudes, longitudes, radius):\n",
    "    \n",
    "    venues_list=[]\n",
    "    for name, lat, lng in zip(names, latitudes, longitudes):\n",
    "        print(name)\n",
    "            \n",
    "        # create the API request URL\n",
    "        url = 'https://api.foursquare.com/v2/venues/search?&categoryId=4f4528bc4b90abdf24c9de85&client_id={}&client_secret={}&v={}&ll={},{}&radius={}&limit={}'.format(\n",
    "            CLIENT_ID, \n",
    "            CLIENT_SECRET, \n",
    "            VERSION, \n",
    "            lat, \n",
    "            lng, \n",
    "            radius, \n",
    "            LIMIT)\n",
    "            \n",
    "        # make the GET request\n",
    "        results = requests.get(url).json()[\"response\"]['venues']\n",
    "        \n",
    "        # return only relevant information for each nearby venue\n",
    "        venues_list.append([(\n",
    "            name, \n",
    "            lat, \n",
    "            lng, \n",
    "            v['name'], \n",
    "            v['location']['lat'], \n",
    "            v['location']['lng'],  \n",
    "            v['categories'][0]['name']) for v in results])\n",
    "\n",
    "    nearby_venues = pd.DataFrame([item for venue_list in venues_list for item in venue_list])\n",
    "    nearby_venues.columns = ['Neighborhood', \n",
    "                  'Neighborhood Latitude', \n",
    "                  'Neighborhood Longitude', \n",
    "                  'Venue', \n",
    "                  'Venue Latitude', \n",
    "                  'Venue Longitude', \n",
    "                  'Venue Category']\n",
    "    \n",
    "    return(nearby_venues)"
   ]
  },
  {
   "cell_type": "markdown",
   "metadata": {},
   "source": [
    "#### Call above function on each neighborhood and create a new dataframe called *navimumbai_venues*."
   ]
  },
  {
   "cell_type": "code",
   "execution_count": 8,
   "metadata": {},
   "outputs": [
    {
     "name": "stdout",
     "output_type": "stream",
     "text": [
      "Airoli\n",
      "Rabale\n",
      "Ghansoli\n",
      "Kopar Khairane\n",
      "Turbhe\n",
      "Sanpada\n",
      "Vashi\n",
      "Juinagar\n",
      "Nerul\n",
      "Seawoods-Darave\n",
      "CBD Belapur\n",
      "Kharghar\n",
      "Mansarovar\n",
      "Khandeshwar\n"
     ]
    }
   ],
   "source": [
    "navimumbai_venues = getNearbyVenues(names=neighborhoods['Neighborhood'],\n",
    "                                   latitudes=neighborhoods['Latitude'],\n",
    "                                   longitudes=neighborhoods['Longitude'],\n",
    "                                   radius=1500\n",
    "                                  )"
   ]
  },
  {
   "cell_type": "markdown",
   "metadata": {},
   "source": [
    "#### Let's check if any station has no sports venue and remove such stations"
   ]
  },
  {
   "cell_type": "code",
   "execution_count": 9,
   "metadata": {},
   "outputs": [
    {
     "data": {
      "text/plain": [
       "['Khandeshwar']"
      ]
     },
     "execution_count": 9,
     "metadata": {},
     "output_type": "execute_result"
    }
   ],
   "source": [
    "novenues = list(set(neighborhoods['Neighborhood'].unique()) - set(navimumbai_venues['Neighborhood'].unique()))\n",
    "novenues"
   ]
  },
  {
   "cell_type": "markdown",
   "metadata": {},
   "source": [
    "Removing stations with no sport venue"
   ]
  },
  {
   "cell_type": "code",
   "execution_count": 10,
   "metadata": {},
   "outputs": [
    {
     "data": {
      "text/html": [
       "<div>\n",
       "<style scoped>\n",
       "    .dataframe tbody tr th:only-of-type {\n",
       "        vertical-align: middle;\n",
       "    }\n",
       "\n",
       "    .dataframe tbody tr th {\n",
       "        vertical-align: top;\n",
       "    }\n",
       "\n",
       "    .dataframe thead th {\n",
       "        text-align: right;\n",
       "    }\n",
       "</style>\n",
       "<table border=\"1\" class=\"dataframe\">\n",
       "  <thead>\n",
       "    <tr style=\"text-align: right;\">\n",
       "      <th></th>\n",
       "      <th>Neighborhood</th>\n",
       "      <th>Latitude</th>\n",
       "      <th>Longitude</th>\n",
       "    </tr>\n",
       "  </thead>\n",
       "  <tbody>\n",
       "    <tr>\n",
       "      <th>0</th>\n",
       "      <td>Airoli</td>\n",
       "      <td>19.158272</td>\n",
       "      <td>72.996709</td>\n",
       "    </tr>\n",
       "    <tr>\n",
       "      <th>1</th>\n",
       "      <td>Rabale</td>\n",
       "      <td>19.136637</td>\n",
       "      <td>73.002781</td>\n",
       "    </tr>\n",
       "    <tr>\n",
       "      <th>2</th>\n",
       "      <td>Ghansoli</td>\n",
       "      <td>19.119331</td>\n",
       "      <td>72.999510</td>\n",
       "    </tr>\n",
       "    <tr>\n",
       "      <th>3</th>\n",
       "      <td>Kopar Khairane</td>\n",
       "      <td>19.102852</td>\n",
       "      <td>73.003075</td>\n",
       "    </tr>\n",
       "    <tr>\n",
       "      <th>4</th>\n",
       "      <td>Turbhe</td>\n",
       "      <td>19.076165</td>\n",
       "      <td>73.017662</td>\n",
       "    </tr>\n",
       "    <tr>\n",
       "      <th>5</th>\n",
       "      <td>Sanpada</td>\n",
       "      <td>19.065977</td>\n",
       "      <td>73.009533</td>\n",
       "    </tr>\n",
       "    <tr>\n",
       "      <th>6</th>\n",
       "      <td>Vashi</td>\n",
       "      <td>19.075713</td>\n",
       "      <td>73.000354</td>\n",
       "    </tr>\n",
       "    <tr>\n",
       "      <th>7</th>\n",
       "      <td>Juinagar</td>\n",
       "      <td>19.056169</td>\n",
       "      <td>73.018245</td>\n",
       "    </tr>\n",
       "    <tr>\n",
       "      <th>8</th>\n",
       "      <td>Nerul</td>\n",
       "      <td>19.033612</td>\n",
       "      <td>73.018140</td>\n",
       "    </tr>\n",
       "    <tr>\n",
       "      <th>9</th>\n",
       "      <td>Seawoods-Darave</td>\n",
       "      <td>19.022192</td>\n",
       "      <td>73.018738</td>\n",
       "    </tr>\n",
       "    <tr>\n",
       "      <th>10</th>\n",
       "      <td>CBD Belapur</td>\n",
       "      <td>19.018987</td>\n",
       "      <td>73.039095</td>\n",
       "    </tr>\n",
       "    <tr>\n",
       "      <th>11</th>\n",
       "      <td>Kharghar</td>\n",
       "      <td>19.025773</td>\n",
       "      <td>73.059185</td>\n",
       "    </tr>\n",
       "    <tr>\n",
       "      <th>12</th>\n",
       "      <td>Mansarovar</td>\n",
       "      <td>19.016434</td>\n",
       "      <td>73.080655</td>\n",
       "    </tr>\n",
       "  </tbody>\n",
       "</table>\n",
       "</div>"
      ],
      "text/plain": [
       "       Neighborhood   Latitude  Longitude\n",
       "0            Airoli  19.158272  72.996709\n",
       "1            Rabale  19.136637  73.002781\n",
       "2          Ghansoli  19.119331  72.999510\n",
       "3    Kopar Khairane  19.102852  73.003075\n",
       "4            Turbhe  19.076165  73.017662\n",
       "5           Sanpada  19.065977  73.009533\n",
       "6             Vashi  19.075713  73.000354\n",
       "7          Juinagar  19.056169  73.018245\n",
       "8             Nerul  19.033612  73.018140\n",
       "9   Seawoods-Darave  19.022192  73.018738\n",
       "10      CBD Belapur  19.018987  73.039095\n",
       "11         Kharghar  19.025773  73.059185\n",
       "12       Mansarovar  19.016434  73.080655"
      ]
     },
     "execution_count": 10,
     "metadata": {},
     "output_type": "execute_result"
    }
   ],
   "source": [
    "neighborhoods = neighborhoods[~neighborhoods['Neighborhood'].isin(novenues)]\n",
    "neighborhoods"
   ]
  },
  {
   "cell_type": "markdown",
   "metadata": {},
   "source": [
    "As the stations are close to each other, there is a chance that a same venue gets picked for two different stations creating duplicates. Let's check and remove duplicates if any."
   ]
  },
  {
   "cell_type": "code",
   "execution_count": 11,
   "metadata": {},
   "outputs": [],
   "source": [
    "def check_duplicate(df,cols):\n",
    "    df_dups = df[df.duplicated(cols, keep=False)].sort_values(by=cols, ascending=False)\n",
    "    df_dups_removed = df[df.duplicated(cols, keep='last')].sort_values(by=cols, ascending=False)\n",
    "    \n",
    "    df_distinct = df[df.groupby(cols)['Neighborhood'].transform('count') == 1]\n",
    "    nmum_venues = pd.concat([df_distinct, df_dups_removed], axis=0)\n",
    "    return df_dups, df_dups_removed, nmum_venues"
   ]
  },
  {
   "cell_type": "code",
   "execution_count": 12,
   "metadata": {},
   "outputs": [],
   "source": [
    "venue_cols = ['Venue Latitude','Venue Longitude','Venue Category']\n",
    "df_dups, df_dups_removed, nmum_venues = check_duplicate(navimumbai_venues,venue_cols)"
   ]
  },
  {
   "cell_type": "markdown",
   "metadata": {},
   "source": [
    "There are some venues which are picked for two adjacent stations"
   ]
  },
  {
   "cell_type": "code",
   "execution_count": 13,
   "metadata": {},
   "outputs": [
    {
     "name": "stdout",
     "output_type": "stream",
     "text": [
      "Duplicate Venues: 89\n"
     ]
    }
   ],
   "source": [
    "print (\"Duplicate Venues:\", int(df_dups.shape[0]/2))"
   ]
  },
  {
   "cell_type": "markdown",
   "metadata": {},
   "source": [
    "Talwarkar gym is picked for both Airoli and Rabale station. Let's drop one."
   ]
  },
  {
   "cell_type": "code",
   "execution_count": 14,
   "metadata": {},
   "outputs": [
    {
     "data": {
      "text/html": [
       "<div>\n",
       "<style scoped>\n",
       "    .dataframe tbody tr th:only-of-type {\n",
       "        vertical-align: middle;\n",
       "    }\n",
       "\n",
       "    .dataframe tbody tr th {\n",
       "        vertical-align: top;\n",
       "    }\n",
       "\n",
       "    .dataframe thead th {\n",
       "        text-align: right;\n",
       "    }\n",
       "</style>\n",
       "<table border=\"1\" class=\"dataframe\">\n",
       "  <thead>\n",
       "    <tr style=\"text-align: right;\">\n",
       "      <th></th>\n",
       "      <th>Neighborhood</th>\n",
       "      <th>Neighborhood Latitude</th>\n",
       "      <th>Neighborhood Longitude</th>\n",
       "      <th>Venue</th>\n",
       "      <th>Venue Latitude</th>\n",
       "      <th>Venue Longitude</th>\n",
       "      <th>Venue Category</th>\n",
       "    </tr>\n",
       "  </thead>\n",
       "  <tbody>\n",
       "    <tr>\n",
       "      <th>6</th>\n",
       "      <td>Airoli</td>\n",
       "      <td>19.158272</td>\n",
       "      <td>72.996709</td>\n",
       "      <td>Talwarkar gym</td>\n",
       "      <td>19.151183</td>\n",
       "      <td>72.999631</td>\n",
       "      <td>Gym / Fitness Center</td>\n",
       "    </tr>\n",
       "    <tr>\n",
       "      <th>18</th>\n",
       "      <td>Rabale</td>\n",
       "      <td>19.136637</td>\n",
       "      <td>73.002781</td>\n",
       "      <td>Talwarkar gym</td>\n",
       "      <td>19.151183</td>\n",
       "      <td>72.999631</td>\n",
       "      <td>Gym / Fitness Center</td>\n",
       "    </tr>\n",
       "    <tr>\n",
       "      <th>13</th>\n",
       "      <td>Airoli</td>\n",
       "      <td>19.158272</td>\n",
       "      <td>72.996709</td>\n",
       "      <td>Health and Fitness Point</td>\n",
       "      <td>19.150337</td>\n",
       "      <td>72.994701</td>\n",
       "      <td>Gym</td>\n",
       "    </tr>\n",
       "    <tr>\n",
       "      <th>25</th>\n",
       "      <td>Rabale</td>\n",
       "      <td>19.136637</td>\n",
       "      <td>73.002781</td>\n",
       "      <td>Health and Fitness Point</td>\n",
       "      <td>19.150337</td>\n",
       "      <td>72.994701</td>\n",
       "      <td>Gym</td>\n",
       "    </tr>\n",
       "  </tbody>\n",
       "</table>\n",
       "</div>"
      ],
      "text/plain": [
       "   Neighborhood  Neighborhood Latitude  Neighborhood Longitude  \\\n",
       "6        Airoli              19.158272               72.996709   \n",
       "18       Rabale              19.136637               73.002781   \n",
       "13       Airoli              19.158272               72.996709   \n",
       "25       Rabale              19.136637               73.002781   \n",
       "\n",
       "                       Venue  Venue Latitude  Venue Longitude  \\\n",
       "6              Talwarkar gym       19.151183        72.999631   \n",
       "18             Talwarkar gym       19.151183        72.999631   \n",
       "13  Health and Fitness Point       19.150337        72.994701   \n",
       "25  Health and Fitness Point       19.150337        72.994701   \n",
       "\n",
       "          Venue Category  \n",
       "6   Gym / Fitness Center  \n",
       "18  Gym / Fitness Center  \n",
       "13                   Gym  \n",
       "25                   Gym  "
      ]
     },
     "execution_count": 14,
     "metadata": {},
     "output_type": "execute_result"
    }
   ],
   "source": [
    "df_dups.head(4)"
   ]
  },
  {
   "cell_type": "code",
   "execution_count": 15,
   "metadata": {},
   "outputs": [
    {
     "data": {
      "text/html": [
       "<div>\n",
       "<style scoped>\n",
       "    .dataframe tbody tr th:only-of-type {\n",
       "        vertical-align: middle;\n",
       "    }\n",
       "\n",
       "    .dataframe tbody tr th {\n",
       "        vertical-align: top;\n",
       "    }\n",
       "\n",
       "    .dataframe thead th {\n",
       "        text-align: right;\n",
       "    }\n",
       "</style>\n",
       "<table border=\"1\" class=\"dataframe\">\n",
       "  <thead>\n",
       "    <tr style=\"text-align: right;\">\n",
       "      <th></th>\n",
       "      <th>Neighborhood</th>\n",
       "      <th>Neighborhood Latitude</th>\n",
       "      <th>Neighborhood Longitude</th>\n",
       "      <th>Venue</th>\n",
       "      <th>Venue Latitude</th>\n",
       "      <th>Venue Longitude</th>\n",
       "      <th>Venue Category</th>\n",
       "    </tr>\n",
       "  </thead>\n",
       "  <tbody>\n",
       "    <tr>\n",
       "      <th>6</th>\n",
       "      <td>Airoli</td>\n",
       "      <td>19.158272</td>\n",
       "      <td>72.996709</td>\n",
       "      <td>Talwarkar gym</td>\n",
       "      <td>19.151183</td>\n",
       "      <td>72.999631</td>\n",
       "      <td>Gym / Fitness Center</td>\n",
       "    </tr>\n",
       "    <tr>\n",
       "      <th>13</th>\n",
       "      <td>Airoli</td>\n",
       "      <td>19.158272</td>\n",
       "      <td>72.996709</td>\n",
       "      <td>Health and Fitness Point</td>\n",
       "      <td>19.150337</td>\n",
       "      <td>72.994701</td>\n",
       "      <td>Gym</td>\n",
       "    </tr>\n",
       "    <tr>\n",
       "      <th>8</th>\n",
       "      <td>Airoli</td>\n",
       "      <td>19.158272</td>\n",
       "      <td>72.996709</td>\n",
       "      <td>Machineless Workout</td>\n",
       "      <td>19.147927</td>\n",
       "      <td>72.995162</td>\n",
       "      <td>Sports Club</td>\n",
       "    </tr>\n",
       "    <tr>\n",
       "      <th>10</th>\n",
       "      <td>Airoli</td>\n",
       "      <td>19.158272</td>\n",
       "      <td>72.996709</td>\n",
       "      <td>Fitness City Gym</td>\n",
       "      <td>19.147374</td>\n",
       "      <td>72.999631</td>\n",
       "      <td>Gym / Fitness Center</td>\n",
       "    </tr>\n",
       "  </tbody>\n",
       "</table>\n",
       "</div>"
      ],
      "text/plain": [
       "   Neighborhood  Neighborhood Latitude  Neighborhood Longitude  \\\n",
       "6        Airoli              19.158272               72.996709   \n",
       "13       Airoli              19.158272               72.996709   \n",
       "8        Airoli              19.158272               72.996709   \n",
       "10       Airoli              19.158272               72.996709   \n",
       "\n",
       "                       Venue  Venue Latitude  Venue Longitude  \\\n",
       "6              Talwarkar gym       19.151183        72.999631   \n",
       "13  Health and Fitness Point       19.150337        72.994701   \n",
       "8        Machineless Workout       19.147927        72.995162   \n",
       "10          Fitness City Gym       19.147374        72.999631   \n",
       "\n",
       "          Venue Category  \n",
       "6   Gym / Fitness Center  \n",
       "13                   Gym  \n",
       "8            Sports Club  \n",
       "10  Gym / Fitness Center  "
      ]
     },
     "execution_count": 15,
     "metadata": {},
     "output_type": "execute_result"
    }
   ],
   "source": [
    "df_dups_removed.head(4)"
   ]
  },
  {
   "cell_type": "code",
   "execution_count": 16,
   "metadata": {},
   "outputs": [
    {
     "name": "stdout",
     "output_type": "stream",
     "text": [
      "Duplicate Venues removed: 76\n"
     ]
    }
   ],
   "source": [
    "print (\"Duplicate Venues removed:\", navimumbai_venues.shape[0] - nmum_venues.shape[0])"
   ]
  },
  {
   "cell_type": "markdown",
   "metadata": {},
   "source": [
    "There are many Gym venues with different names. Let's group them into single venue ."
   ]
  },
  {
   "cell_type": "code",
   "execution_count": 17,
   "metadata": {},
   "outputs": [
    {
     "data": {
      "text/plain": [
       "['Gym', 'Gym / Fitness Center', 'Gym Pool', 'Boxing Gym']"
      ]
     },
     "execution_count": 17,
     "metadata": {},
     "output_type": "execute_result"
    }
   ],
   "source": [
    "gym = list(nmum_venues[nmum_venues['Venue Category'].str.contains('Gym')]['Venue Category'].unique())\n",
    "gym"
   ]
  },
  {
   "cell_type": "code",
   "execution_count": 18,
   "metadata": {},
   "outputs": [],
   "source": [
    "nmum_venues['Venue Category'].replace(to_replace=gym, value='Gym', inplace=True)"
   ]
  },
  {
   "cell_type": "code",
   "execution_count": 19,
   "metadata": {},
   "outputs": [
    {
     "data": {
      "text/html": [
       "<div>\n",
       "<style scoped>\n",
       "    .dataframe tbody tr th:only-of-type {\n",
       "        vertical-align: middle;\n",
       "    }\n",
       "\n",
       "    .dataframe tbody tr th {\n",
       "        vertical-align: top;\n",
       "    }\n",
       "\n",
       "    .dataframe thead th {\n",
       "        text-align: right;\n",
       "    }\n",
       "</style>\n",
       "<table border=\"1\" class=\"dataframe\">\n",
       "  <thead>\n",
       "    <tr style=\"text-align: right;\">\n",
       "      <th></th>\n",
       "      <th>Neighborhood</th>\n",
       "      <th>Neighborhood Latitude</th>\n",
       "      <th>Neighborhood Longitude</th>\n",
       "      <th>Venue</th>\n",
       "      <th>Venue Latitude</th>\n",
       "      <th>Venue Longitude</th>\n",
       "      <th>Venue Category</th>\n",
       "    </tr>\n",
       "  </thead>\n",
       "  <tbody>\n",
       "    <tr>\n",
       "      <th>91</th>\n",
       "      <td>Vashi</td>\n",
       "      <td>19.075713</td>\n",
       "      <td>73.000354</td>\n",
       "      <td>Sector 9 Ground</td>\n",
       "      <td>19.080126</td>\n",
       "      <td>72.993422</td>\n",
       "      <td>Garden</td>\n",
       "    </tr>\n",
       "    <tr>\n",
       "      <th>92</th>\n",
       "      <td>Vashi</td>\n",
       "      <td>19.075713</td>\n",
       "      <td>73.000354</td>\n",
       "      <td>NMSA Gymnasium</td>\n",
       "      <td>19.072205</td>\n",
       "      <td>72.992036</td>\n",
       "      <td>Gym</td>\n",
       "    </tr>\n",
       "    <tr>\n",
       "      <th>93</th>\n",
       "      <td>Vashi</td>\n",
       "      <td>19.075713</td>\n",
       "      <td>73.000354</td>\n",
       "      <td>Talwalkars Fitness Centre, Vashi</td>\n",
       "      <td>19.073968</td>\n",
       "      <td>72.991247</td>\n",
       "      <td>Gym</td>\n",
       "    </tr>\n",
       "    <tr>\n",
       "      <th>95</th>\n",
       "      <td>Vashi</td>\n",
       "      <td>19.075713</td>\n",
       "      <td>73.000354</td>\n",
       "      <td>father agnel Football Ground</td>\n",
       "      <td>19.077786</td>\n",
       "      <td>72.993859</td>\n",
       "      <td>Soccer Field</td>\n",
       "    </tr>\n",
       "    <tr>\n",
       "      <th>97</th>\n",
       "      <td>Vashi</td>\n",
       "      <td>19.075713</td>\n",
       "      <td>73.000354</td>\n",
       "      <td>Fr. Agnels Basket Ball Court</td>\n",
       "      <td>19.074515</td>\n",
       "      <td>72.988070</td>\n",
       "      <td>Basketball Court</td>\n",
       "    </tr>\n",
       "    <tr>\n",
       "      <th>101</th>\n",
       "      <td>Vashi</td>\n",
       "      <td>19.075713</td>\n",
       "      <td>73.000354</td>\n",
       "      <td>football ground</td>\n",
       "      <td>19.078545</td>\n",
       "      <td>72.994452</td>\n",
       "      <td>Soccer Field</td>\n",
       "    </tr>\n",
       "  </tbody>\n",
       "</table>\n",
       "</div>"
      ],
      "text/plain": [
       "    Neighborhood  Neighborhood Latitude  Neighborhood Longitude  \\\n",
       "91         Vashi              19.075713               73.000354   \n",
       "92         Vashi              19.075713               73.000354   \n",
       "93         Vashi              19.075713               73.000354   \n",
       "95         Vashi              19.075713               73.000354   \n",
       "97         Vashi              19.075713               73.000354   \n",
       "101        Vashi              19.075713               73.000354   \n",
       "\n",
       "                                Venue  Venue Latitude  Venue Longitude  \\\n",
       "91                    Sector 9 Ground       19.080126        72.993422   \n",
       "92                     NMSA Gymnasium       19.072205        72.992036   \n",
       "93   Talwalkars Fitness Centre, Vashi       19.073968        72.991247   \n",
       "95       father agnel Football Ground       19.077786        72.993859   \n",
       "97       Fr. Agnels Basket Ball Court       19.074515        72.988070   \n",
       "101                   football ground       19.078545        72.994452   \n",
       "\n",
       "       Venue Category  \n",
       "91             Garden  \n",
       "92                Gym  \n",
       "93                Gym  \n",
       "95       Soccer Field  \n",
       "97   Basketball Court  \n",
       "101      Soccer Field  "
      ]
     },
     "execution_count": 19,
     "metadata": {},
     "output_type": "execute_result"
    }
   ],
   "source": [
    "nmum_venues[nmum_venues.Neighborhood == 'Vashi'].head(6)"
   ]
  },
  {
   "cell_type": "markdown",
   "metadata": {},
   "source": [
    "Let's check how many venues were returned for each neighborhood"
   ]
  },
  {
   "cell_type": "code",
   "execution_count": 20,
   "metadata": {},
   "outputs": [
    {
     "data": {
      "text/html": [
       "<div>\n",
       "<style scoped>\n",
       "    .dataframe tbody tr th:only-of-type {\n",
       "        vertical-align: middle;\n",
       "    }\n",
       "\n",
       "    .dataframe tbody tr th {\n",
       "        vertical-align: top;\n",
       "    }\n",
       "\n",
       "    .dataframe thead th {\n",
       "        text-align: right;\n",
       "    }\n",
       "</style>\n",
       "<table border=\"1\" class=\"dataframe\">\n",
       "  <thead>\n",
       "    <tr style=\"text-align: right;\">\n",
       "      <th></th>\n",
       "      <th>Neighborhood Latitude</th>\n",
       "      <th>Neighborhood Longitude</th>\n",
       "      <th>Venue</th>\n",
       "      <th>Venue Latitude</th>\n",
       "      <th>Venue Longitude</th>\n",
       "      <th>Venue Category</th>\n",
       "    </tr>\n",
       "    <tr>\n",
       "      <th>Neighborhood</th>\n",
       "      <th></th>\n",
       "      <th></th>\n",
       "      <th></th>\n",
       "      <th></th>\n",
       "      <th></th>\n",
       "      <th></th>\n",
       "    </tr>\n",
       "  </thead>\n",
       "  <tbody>\n",
       "    <tr>\n",
       "      <th>Airoli</th>\n",
       "      <td>15</td>\n",
       "      <td>15</td>\n",
       "      <td>15</td>\n",
       "      <td>15</td>\n",
       "      <td>15</td>\n",
       "      <td>15</td>\n",
       "    </tr>\n",
       "    <tr>\n",
       "      <th>CBD Belapur</th>\n",
       "      <td>8</td>\n",
       "      <td>8</td>\n",
       "      <td>8</td>\n",
       "      <td>8</td>\n",
       "      <td>8</td>\n",
       "      <td>8</td>\n",
       "    </tr>\n",
       "    <tr>\n",
       "      <th>Ghansoli</th>\n",
       "      <td>8</td>\n",
       "      <td>8</td>\n",
       "      <td>8</td>\n",
       "      <td>8</td>\n",
       "      <td>8</td>\n",
       "      <td>8</td>\n",
       "    </tr>\n",
       "    <tr>\n",
       "      <th>Juinagar</th>\n",
       "      <td>4</td>\n",
       "      <td>4</td>\n",
       "      <td>4</td>\n",
       "      <td>4</td>\n",
       "      <td>4</td>\n",
       "      <td>4</td>\n",
       "    </tr>\n",
       "    <tr>\n",
       "      <th>Kharghar</th>\n",
       "      <td>9</td>\n",
       "      <td>9</td>\n",
       "      <td>9</td>\n",
       "      <td>9</td>\n",
       "      <td>9</td>\n",
       "      <td>9</td>\n",
       "    </tr>\n",
       "    <tr>\n",
       "      <th>Kopar Khairane</th>\n",
       "      <td>6</td>\n",
       "      <td>6</td>\n",
       "      <td>6</td>\n",
       "      <td>6</td>\n",
       "      <td>6</td>\n",
       "      <td>6</td>\n",
       "    </tr>\n",
       "    <tr>\n",
       "      <th>Mansarovar</th>\n",
       "      <td>4</td>\n",
       "      <td>4</td>\n",
       "      <td>4</td>\n",
       "      <td>4</td>\n",
       "      <td>4</td>\n",
       "      <td>4</td>\n",
       "    </tr>\n",
       "    <tr>\n",
       "      <th>Nerul</th>\n",
       "      <td>23</td>\n",
       "      <td>23</td>\n",
       "      <td>23</td>\n",
       "      <td>23</td>\n",
       "      <td>23</td>\n",
       "      <td>23</td>\n",
       "    </tr>\n",
       "    <tr>\n",
       "      <th>Rabale</th>\n",
       "      <td>3</td>\n",
       "      <td>3</td>\n",
       "      <td>3</td>\n",
       "      <td>3</td>\n",
       "      <td>3</td>\n",
       "      <td>3</td>\n",
       "    </tr>\n",
       "    <tr>\n",
       "      <th>Sanpada</th>\n",
       "      <td>23</td>\n",
       "      <td>23</td>\n",
       "      <td>23</td>\n",
       "      <td>23</td>\n",
       "      <td>23</td>\n",
       "      <td>23</td>\n",
       "    </tr>\n",
       "    <tr>\n",
       "      <th>Seawoods-Darave</th>\n",
       "      <td>9</td>\n",
       "      <td>9</td>\n",
       "      <td>9</td>\n",
       "      <td>9</td>\n",
       "      <td>9</td>\n",
       "      <td>9</td>\n",
       "    </tr>\n",
       "    <tr>\n",
       "      <th>Turbhe</th>\n",
       "      <td>17</td>\n",
       "      <td>17</td>\n",
       "      <td>17</td>\n",
       "      <td>17</td>\n",
       "      <td>17</td>\n",
       "      <td>17</td>\n",
       "    </tr>\n",
       "    <tr>\n",
       "      <th>Vashi</th>\n",
       "      <td>25</td>\n",
       "      <td>25</td>\n",
       "      <td>25</td>\n",
       "      <td>25</td>\n",
       "      <td>25</td>\n",
       "      <td>25</td>\n",
       "    </tr>\n",
       "  </tbody>\n",
       "</table>\n",
       "</div>"
      ],
      "text/plain": [
       "                 Neighborhood Latitude  Neighborhood Longitude  Venue  \\\n",
       "Neighborhood                                                            \n",
       "Airoli                              15                      15     15   \n",
       "CBD Belapur                          8                       8      8   \n",
       "Ghansoli                             8                       8      8   \n",
       "Juinagar                             4                       4      4   \n",
       "Kharghar                             9                       9      9   \n",
       "Kopar Khairane                       6                       6      6   \n",
       "Mansarovar                           4                       4      4   \n",
       "Nerul                               23                      23     23   \n",
       "Rabale                               3                       3      3   \n",
       "Sanpada                             23                      23     23   \n",
       "Seawoods-Darave                      9                       9      9   \n",
       "Turbhe                              17                      17     17   \n",
       "Vashi                               25                      25     25   \n",
       "\n",
       "                 Venue Latitude  Venue Longitude  Venue Category  \n",
       "Neighborhood                                                      \n",
       "Airoli                       15               15              15  \n",
       "CBD Belapur                   8                8               8  \n",
       "Ghansoli                      8                8               8  \n",
       "Juinagar                      4                4               4  \n",
       "Kharghar                      9                9               9  \n",
       "Kopar Khairane                6                6               6  \n",
       "Mansarovar                    4                4               4  \n",
       "Nerul                        23               23              23  \n",
       "Rabale                        3                3               3  \n",
       "Sanpada                      23               23              23  \n",
       "Seawoods-Darave               9                9               9  \n",
       "Turbhe                       17               17              17  \n",
       "Vashi                        25               25              25  "
      ]
     },
     "execution_count": 20,
     "metadata": {},
     "output_type": "execute_result"
    }
   ],
   "source": [
    "nmum_venues.groupby('Neighborhood').count()"
   ]
  },
  {
   "cell_type": "markdown",
   "metadata": {},
   "source": [
    "#### Let's find out how many unique categories can be curated from all the returned venues"
   ]
  },
  {
   "cell_type": "code",
   "execution_count": 21,
   "metadata": {},
   "outputs": [
    {
     "name": "stdout",
     "output_type": "stream",
     "text": [
      "There are 16 uniques categories.\n"
     ]
    }
   ],
   "source": [
    "print('There are {} uniques categories.'.format(len(nmum_venues['Venue Category'].unique())))"
   ]
  },
  {
   "cell_type": "markdown",
   "metadata": {},
   "source": [
    "## Analyze Each Neighborhood"
   ]
  },
  {
   "cell_type": "code",
   "execution_count": 22,
   "metadata": {},
   "outputs": [
    {
     "data": {
      "text/html": [
       "<div>\n",
       "<style scoped>\n",
       "    .dataframe tbody tr th:only-of-type {\n",
       "        vertical-align: middle;\n",
       "    }\n",
       "\n",
       "    .dataframe tbody tr th {\n",
       "        vertical-align: top;\n",
       "    }\n",
       "\n",
       "    .dataframe thead th {\n",
       "        text-align: right;\n",
       "    }\n",
       "</style>\n",
       "<table border=\"1\" class=\"dataframe\">\n",
       "  <thead>\n",
       "    <tr style=\"text-align: right;\">\n",
       "      <th></th>\n",
       "      <th>Neighborhood</th>\n",
       "      <th>Athletics &amp; Sports</th>\n",
       "      <th>Baseball Field</th>\n",
       "      <th>Basketball Court</th>\n",
       "      <th>Garden</th>\n",
       "      <th>Golf Course</th>\n",
       "      <th>Gym</th>\n",
       "      <th>Hotel</th>\n",
       "      <th>Martial Arts Dojo</th>\n",
       "      <th>Residential Building (Apartment / Condo)</th>\n",
       "      <th>Soccer Field</th>\n",
       "      <th>Sporting Goods Shop</th>\n",
       "      <th>Sports Club</th>\n",
       "      <th>Tennis Court</th>\n",
       "      <th>Track</th>\n",
       "      <th>Volleyball Court</th>\n",
       "      <th>Yoga Studio</th>\n",
       "    </tr>\n",
       "  </thead>\n",
       "  <tbody>\n",
       "    <tr>\n",
       "      <th>0</th>\n",
       "      <td>Airoli</td>\n",
       "      <td>0</td>\n",
       "      <td>0</td>\n",
       "      <td>0</td>\n",
       "      <td>0</td>\n",
       "      <td>0</td>\n",
       "      <td>1</td>\n",
       "      <td>0</td>\n",
       "      <td>0</td>\n",
       "      <td>0</td>\n",
       "      <td>0</td>\n",
       "      <td>0</td>\n",
       "      <td>0</td>\n",
       "      <td>0</td>\n",
       "      <td>0</td>\n",
       "      <td>0</td>\n",
       "      <td>0</td>\n",
       "    </tr>\n",
       "    <tr>\n",
       "      <th>1</th>\n",
       "      <td>Airoli</td>\n",
       "      <td>0</td>\n",
       "      <td>0</td>\n",
       "      <td>0</td>\n",
       "      <td>0</td>\n",
       "      <td>0</td>\n",
       "      <td>1</td>\n",
       "      <td>0</td>\n",
       "      <td>0</td>\n",
       "      <td>0</td>\n",
       "      <td>0</td>\n",
       "      <td>0</td>\n",
       "      <td>0</td>\n",
       "      <td>0</td>\n",
       "      <td>0</td>\n",
       "      <td>0</td>\n",
       "      <td>0</td>\n",
       "    </tr>\n",
       "    <tr>\n",
       "      <th>3</th>\n",
       "      <td>Airoli</td>\n",
       "      <td>0</td>\n",
       "      <td>0</td>\n",
       "      <td>0</td>\n",
       "      <td>0</td>\n",
       "      <td>0</td>\n",
       "      <td>1</td>\n",
       "      <td>0</td>\n",
       "      <td>0</td>\n",
       "      <td>0</td>\n",
       "      <td>0</td>\n",
       "      <td>0</td>\n",
       "      <td>0</td>\n",
       "      <td>0</td>\n",
       "      <td>0</td>\n",
       "      <td>0</td>\n",
       "      <td>0</td>\n",
       "    </tr>\n",
       "    <tr>\n",
       "      <th>4</th>\n",
       "      <td>Airoli</td>\n",
       "      <td>1</td>\n",
       "      <td>0</td>\n",
       "      <td>0</td>\n",
       "      <td>0</td>\n",
       "      <td>0</td>\n",
       "      <td>0</td>\n",
       "      <td>0</td>\n",
       "      <td>0</td>\n",
       "      <td>0</td>\n",
       "      <td>0</td>\n",
       "      <td>0</td>\n",
       "      <td>0</td>\n",
       "      <td>0</td>\n",
       "      <td>0</td>\n",
       "      <td>0</td>\n",
       "      <td>0</td>\n",
       "    </tr>\n",
       "    <tr>\n",
       "      <th>9</th>\n",
       "      <td>Airoli</td>\n",
       "      <td>0</td>\n",
       "      <td>0</td>\n",
       "      <td>0</td>\n",
       "      <td>0</td>\n",
       "      <td>0</td>\n",
       "      <td>0</td>\n",
       "      <td>0</td>\n",
       "      <td>0</td>\n",
       "      <td>0</td>\n",
       "      <td>0</td>\n",
       "      <td>0</td>\n",
       "      <td>1</td>\n",
       "      <td>0</td>\n",
       "      <td>0</td>\n",
       "      <td>0</td>\n",
       "      <td>0</td>\n",
       "    </tr>\n",
       "  </tbody>\n",
       "</table>\n",
       "</div>"
      ],
      "text/plain": [
       "  Neighborhood  Athletics & Sports  Baseball Field  Basketball Court  Garden  \\\n",
       "0       Airoli                   0               0                 0       0   \n",
       "1       Airoli                   0               0                 0       0   \n",
       "3       Airoli                   0               0                 0       0   \n",
       "4       Airoli                   1               0                 0       0   \n",
       "9       Airoli                   0               0                 0       0   \n",
       "\n",
       "   Golf Course  Gym  Hotel  Martial Arts Dojo  \\\n",
       "0            0    1      0                  0   \n",
       "1            0    1      0                  0   \n",
       "3            0    1      0                  0   \n",
       "4            0    0      0                  0   \n",
       "9            0    0      0                  0   \n",
       "\n",
       "   Residential Building (Apartment / Condo)  Soccer Field  \\\n",
       "0                                         0             0   \n",
       "1                                         0             0   \n",
       "3                                         0             0   \n",
       "4                                         0             0   \n",
       "9                                         0             0   \n",
       "\n",
       "   Sporting Goods Shop  Sports Club  Tennis Court  Track  Volleyball Court  \\\n",
       "0                    0            0             0      0                 0   \n",
       "1                    0            0             0      0                 0   \n",
       "3                    0            0             0      0                 0   \n",
       "4                    0            0             0      0                 0   \n",
       "9                    0            1             0      0                 0   \n",
       "\n",
       "   Yoga Studio  \n",
       "0            0  \n",
       "1            0  \n",
       "3            0  \n",
       "4            0  \n",
       "9            0  "
      ]
     },
     "execution_count": 22,
     "metadata": {},
     "output_type": "execute_result"
    }
   ],
   "source": [
    "# one hot encoding\n",
    "nmum_onehot = pd.get_dummies(nmum_venues[['Venue Category']], prefix=\"\", prefix_sep=\"\")\n",
    "\n",
    "# add neighborhood column back to dataframe\n",
    "nmum_onehot['Neighborhood'] = nmum_venues['Neighborhood'] \n",
    "\n",
    "# move neighborhood column to the first column\n",
    "fixed_columns = [nmum_onehot.columns[-1]] + list(nmum_onehot.columns[:-1])\n",
    "nmum_onehot = nmum_onehot[fixed_columns]\n",
    "\n",
    "nmum_onehot.head()"
   ]
  },
  {
   "cell_type": "markdown",
   "metadata": {},
   "source": [
    "And let's examine the new dataframe size."
   ]
  },
  {
   "cell_type": "code",
   "execution_count": 23,
   "metadata": {},
   "outputs": [
    {
     "data": {
      "text/plain": [
       "(154, 17)"
      ]
     },
     "execution_count": 23,
     "metadata": {},
     "output_type": "execute_result"
    }
   ],
   "source": [
    "nmum_onehot.shape"
   ]
  },
  {
   "cell_type": "markdown",
   "metadata": {},
   "source": [
    "#### Next, let's group rows by neighborhood and by taking the mean of the frequency of occurrence of each category"
   ]
  },
  {
   "cell_type": "code",
   "execution_count": 24,
   "metadata": {},
   "outputs": [
    {
     "data": {
      "text/html": [
       "<div>\n",
       "<style scoped>\n",
       "    .dataframe tbody tr th:only-of-type {\n",
       "        vertical-align: middle;\n",
       "    }\n",
       "\n",
       "    .dataframe tbody tr th {\n",
       "        vertical-align: top;\n",
       "    }\n",
       "\n",
       "    .dataframe thead th {\n",
       "        text-align: right;\n",
       "    }\n",
       "</style>\n",
       "<table border=\"1\" class=\"dataframe\">\n",
       "  <thead>\n",
       "    <tr style=\"text-align: right;\">\n",
       "      <th></th>\n",
       "      <th>Neighborhood</th>\n",
       "      <th>Athletics &amp; Sports</th>\n",
       "      <th>Baseball Field</th>\n",
       "      <th>Basketball Court</th>\n",
       "      <th>Garden</th>\n",
       "      <th>Golf Course</th>\n",
       "      <th>Gym</th>\n",
       "      <th>Hotel</th>\n",
       "      <th>Martial Arts Dojo</th>\n",
       "      <th>Residential Building (Apartment / Condo)</th>\n",
       "      <th>Soccer Field</th>\n",
       "      <th>Sporting Goods Shop</th>\n",
       "      <th>Sports Club</th>\n",
       "      <th>Tennis Court</th>\n",
       "      <th>Track</th>\n",
       "      <th>Volleyball Court</th>\n",
       "      <th>Yoga Studio</th>\n",
       "    </tr>\n",
       "  </thead>\n",
       "  <tbody>\n",
       "    <tr>\n",
       "      <th>0</th>\n",
       "      <td>Airoli</td>\n",
       "      <td>0.133333</td>\n",
       "      <td>0.000000</td>\n",
       "      <td>0.000000</td>\n",
       "      <td>0.00</td>\n",
       "      <td>0.000000</td>\n",
       "      <td>0.666667</td>\n",
       "      <td>0.000000</td>\n",
       "      <td>0.000000</td>\n",
       "      <td>0.000000</td>\n",
       "      <td>0.000000</td>\n",
       "      <td>0.000</td>\n",
       "      <td>0.200000</td>\n",
       "      <td>0.000000</td>\n",
       "      <td>0.000000</td>\n",
       "      <td>0.00</td>\n",
       "      <td>0.00</td>\n",
       "    </tr>\n",
       "    <tr>\n",
       "      <th>1</th>\n",
       "      <td>CBD Belapur</td>\n",
       "      <td>0.250000</td>\n",
       "      <td>0.000000</td>\n",
       "      <td>0.000000</td>\n",
       "      <td>0.00</td>\n",
       "      <td>0.000000</td>\n",
       "      <td>0.625000</td>\n",
       "      <td>0.000000</td>\n",
       "      <td>0.000000</td>\n",
       "      <td>0.000000</td>\n",
       "      <td>0.000000</td>\n",
       "      <td>0.125</td>\n",
       "      <td>0.000000</td>\n",
       "      <td>0.000000</td>\n",
       "      <td>0.000000</td>\n",
       "      <td>0.00</td>\n",
       "      <td>0.00</td>\n",
       "    </tr>\n",
       "    <tr>\n",
       "      <th>2</th>\n",
       "      <td>Ghansoli</td>\n",
       "      <td>0.000000</td>\n",
       "      <td>0.000000</td>\n",
       "      <td>0.000000</td>\n",
       "      <td>0.00</td>\n",
       "      <td>0.000000</td>\n",
       "      <td>1.000000</td>\n",
       "      <td>0.000000</td>\n",
       "      <td>0.000000</td>\n",
       "      <td>0.000000</td>\n",
       "      <td>0.000000</td>\n",
       "      <td>0.000</td>\n",
       "      <td>0.000000</td>\n",
       "      <td>0.000000</td>\n",
       "      <td>0.000000</td>\n",
       "      <td>0.00</td>\n",
       "      <td>0.00</td>\n",
       "    </tr>\n",
       "    <tr>\n",
       "      <th>3</th>\n",
       "      <td>Juinagar</td>\n",
       "      <td>0.250000</td>\n",
       "      <td>0.000000</td>\n",
       "      <td>0.000000</td>\n",
       "      <td>0.00</td>\n",
       "      <td>0.000000</td>\n",
       "      <td>0.500000</td>\n",
       "      <td>0.000000</td>\n",
       "      <td>0.000000</td>\n",
       "      <td>0.000000</td>\n",
       "      <td>0.250000</td>\n",
       "      <td>0.000</td>\n",
       "      <td>0.000000</td>\n",
       "      <td>0.000000</td>\n",
       "      <td>0.000000</td>\n",
       "      <td>0.00</td>\n",
       "      <td>0.00</td>\n",
       "    </tr>\n",
       "    <tr>\n",
       "      <th>4</th>\n",
       "      <td>Kharghar</td>\n",
       "      <td>0.111111</td>\n",
       "      <td>0.000000</td>\n",
       "      <td>0.000000</td>\n",
       "      <td>0.00</td>\n",
       "      <td>0.000000</td>\n",
       "      <td>0.777778</td>\n",
       "      <td>0.000000</td>\n",
       "      <td>0.000000</td>\n",
       "      <td>0.000000</td>\n",
       "      <td>0.111111</td>\n",
       "      <td>0.000</td>\n",
       "      <td>0.000000</td>\n",
       "      <td>0.000000</td>\n",
       "      <td>0.000000</td>\n",
       "      <td>0.00</td>\n",
       "      <td>0.00</td>\n",
       "    </tr>\n",
       "    <tr>\n",
       "      <th>5</th>\n",
       "      <td>Kopar Khairane</td>\n",
       "      <td>0.000000</td>\n",
       "      <td>0.000000</td>\n",
       "      <td>0.000000</td>\n",
       "      <td>0.00</td>\n",
       "      <td>0.000000</td>\n",
       "      <td>0.833333</td>\n",
       "      <td>0.000000</td>\n",
       "      <td>0.166667</td>\n",
       "      <td>0.000000</td>\n",
       "      <td>0.000000</td>\n",
       "      <td>0.000</td>\n",
       "      <td>0.000000</td>\n",
       "      <td>0.000000</td>\n",
       "      <td>0.000000</td>\n",
       "      <td>0.00</td>\n",
       "      <td>0.00</td>\n",
       "    </tr>\n",
       "    <tr>\n",
       "      <th>6</th>\n",
       "      <td>Mansarovar</td>\n",
       "      <td>0.000000</td>\n",
       "      <td>0.000000</td>\n",
       "      <td>0.250000</td>\n",
       "      <td>0.00</td>\n",
       "      <td>0.000000</td>\n",
       "      <td>0.500000</td>\n",
       "      <td>0.000000</td>\n",
       "      <td>0.000000</td>\n",
       "      <td>0.000000</td>\n",
       "      <td>0.000000</td>\n",
       "      <td>0.000</td>\n",
       "      <td>0.000000</td>\n",
       "      <td>0.000000</td>\n",
       "      <td>0.000000</td>\n",
       "      <td>0.25</td>\n",
       "      <td>0.00</td>\n",
       "    </tr>\n",
       "    <tr>\n",
       "      <th>7</th>\n",
       "      <td>Nerul</td>\n",
       "      <td>0.173913</td>\n",
       "      <td>0.000000</td>\n",
       "      <td>0.000000</td>\n",
       "      <td>0.00</td>\n",
       "      <td>0.000000</td>\n",
       "      <td>0.695652</td>\n",
       "      <td>0.000000</td>\n",
       "      <td>0.000000</td>\n",
       "      <td>0.000000</td>\n",
       "      <td>0.000000</td>\n",
       "      <td>0.000</td>\n",
       "      <td>0.086957</td>\n",
       "      <td>0.000000</td>\n",
       "      <td>0.043478</td>\n",
       "      <td>0.00</td>\n",
       "      <td>0.00</td>\n",
       "    </tr>\n",
       "    <tr>\n",
       "      <th>8</th>\n",
       "      <td>Rabale</td>\n",
       "      <td>0.000000</td>\n",
       "      <td>0.000000</td>\n",
       "      <td>0.333333</td>\n",
       "      <td>0.00</td>\n",
       "      <td>0.000000</td>\n",
       "      <td>0.666667</td>\n",
       "      <td>0.000000</td>\n",
       "      <td>0.000000</td>\n",
       "      <td>0.000000</td>\n",
       "      <td>0.000000</td>\n",
       "      <td>0.000</td>\n",
       "      <td>0.000000</td>\n",
       "      <td>0.000000</td>\n",
       "      <td>0.000000</td>\n",
       "      <td>0.00</td>\n",
       "      <td>0.00</td>\n",
       "    </tr>\n",
       "    <tr>\n",
       "      <th>9</th>\n",
       "      <td>Sanpada</td>\n",
       "      <td>0.173913</td>\n",
       "      <td>0.043478</td>\n",
       "      <td>0.043478</td>\n",
       "      <td>0.00</td>\n",
       "      <td>0.043478</td>\n",
       "      <td>0.521739</td>\n",
       "      <td>0.043478</td>\n",
       "      <td>0.000000</td>\n",
       "      <td>0.043478</td>\n",
       "      <td>0.086957</td>\n",
       "      <td>0.000</td>\n",
       "      <td>0.000000</td>\n",
       "      <td>0.000000</td>\n",
       "      <td>0.000000</td>\n",
       "      <td>0.00</td>\n",
       "      <td>0.00</td>\n",
       "    </tr>\n",
       "    <tr>\n",
       "      <th>10</th>\n",
       "      <td>Seawoods-Darave</td>\n",
       "      <td>0.000000</td>\n",
       "      <td>0.000000</td>\n",
       "      <td>0.000000</td>\n",
       "      <td>0.00</td>\n",
       "      <td>0.000000</td>\n",
       "      <td>0.777778</td>\n",
       "      <td>0.000000</td>\n",
       "      <td>0.000000</td>\n",
       "      <td>0.000000</td>\n",
       "      <td>0.000000</td>\n",
       "      <td>0.000</td>\n",
       "      <td>0.111111</td>\n",
       "      <td>0.111111</td>\n",
       "      <td>0.000000</td>\n",
       "      <td>0.00</td>\n",
       "      <td>0.00</td>\n",
       "    </tr>\n",
       "    <tr>\n",
       "      <th>11</th>\n",
       "      <td>Turbhe</td>\n",
       "      <td>0.117647</td>\n",
       "      <td>0.058824</td>\n",
       "      <td>0.058824</td>\n",
       "      <td>0.00</td>\n",
       "      <td>0.058824</td>\n",
       "      <td>0.529412</td>\n",
       "      <td>0.058824</td>\n",
       "      <td>0.000000</td>\n",
       "      <td>0.058824</td>\n",
       "      <td>0.058824</td>\n",
       "      <td>0.000</td>\n",
       "      <td>0.000000</td>\n",
       "      <td>0.000000</td>\n",
       "      <td>0.000000</td>\n",
       "      <td>0.00</td>\n",
       "      <td>0.00</td>\n",
       "    </tr>\n",
       "    <tr>\n",
       "      <th>12</th>\n",
       "      <td>Vashi</td>\n",
       "      <td>0.160000</td>\n",
       "      <td>0.000000</td>\n",
       "      <td>0.120000</td>\n",
       "      <td>0.04</td>\n",
       "      <td>0.040000</td>\n",
       "      <td>0.440000</td>\n",
       "      <td>0.000000</td>\n",
       "      <td>0.000000</td>\n",
       "      <td>0.000000</td>\n",
       "      <td>0.120000</td>\n",
       "      <td>0.000</td>\n",
       "      <td>0.040000</td>\n",
       "      <td>0.000000</td>\n",
       "      <td>0.000000</td>\n",
       "      <td>0.00</td>\n",
       "      <td>0.04</td>\n",
       "    </tr>\n",
       "  </tbody>\n",
       "</table>\n",
       "</div>"
      ],
      "text/plain": [
       "       Neighborhood  Athletics & Sports  Baseball Field  Basketball Court  \\\n",
       "0            Airoli            0.133333        0.000000          0.000000   \n",
       "1       CBD Belapur            0.250000        0.000000          0.000000   \n",
       "2          Ghansoli            0.000000        0.000000          0.000000   \n",
       "3          Juinagar            0.250000        0.000000          0.000000   \n",
       "4          Kharghar            0.111111        0.000000          0.000000   \n",
       "5    Kopar Khairane            0.000000        0.000000          0.000000   \n",
       "6        Mansarovar            0.000000        0.000000          0.250000   \n",
       "7             Nerul            0.173913        0.000000          0.000000   \n",
       "8            Rabale            0.000000        0.000000          0.333333   \n",
       "9           Sanpada            0.173913        0.043478          0.043478   \n",
       "10  Seawoods-Darave            0.000000        0.000000          0.000000   \n",
       "11           Turbhe            0.117647        0.058824          0.058824   \n",
       "12            Vashi            0.160000        0.000000          0.120000   \n",
       "\n",
       "    Garden  Golf Course       Gym     Hotel  Martial Arts Dojo  \\\n",
       "0     0.00     0.000000  0.666667  0.000000           0.000000   \n",
       "1     0.00     0.000000  0.625000  0.000000           0.000000   \n",
       "2     0.00     0.000000  1.000000  0.000000           0.000000   \n",
       "3     0.00     0.000000  0.500000  0.000000           0.000000   \n",
       "4     0.00     0.000000  0.777778  0.000000           0.000000   \n",
       "5     0.00     0.000000  0.833333  0.000000           0.166667   \n",
       "6     0.00     0.000000  0.500000  0.000000           0.000000   \n",
       "7     0.00     0.000000  0.695652  0.000000           0.000000   \n",
       "8     0.00     0.000000  0.666667  0.000000           0.000000   \n",
       "9     0.00     0.043478  0.521739  0.043478           0.000000   \n",
       "10    0.00     0.000000  0.777778  0.000000           0.000000   \n",
       "11    0.00     0.058824  0.529412  0.058824           0.000000   \n",
       "12    0.04     0.040000  0.440000  0.000000           0.000000   \n",
       "\n",
       "    Residential Building (Apartment / Condo)  Soccer Field  \\\n",
       "0                                   0.000000      0.000000   \n",
       "1                                   0.000000      0.000000   \n",
       "2                                   0.000000      0.000000   \n",
       "3                                   0.000000      0.250000   \n",
       "4                                   0.000000      0.111111   \n",
       "5                                   0.000000      0.000000   \n",
       "6                                   0.000000      0.000000   \n",
       "7                                   0.000000      0.000000   \n",
       "8                                   0.000000      0.000000   \n",
       "9                                   0.043478      0.086957   \n",
       "10                                  0.000000      0.000000   \n",
       "11                                  0.058824      0.058824   \n",
       "12                                  0.000000      0.120000   \n",
       "\n",
       "    Sporting Goods Shop  Sports Club  Tennis Court     Track  \\\n",
       "0                 0.000     0.200000      0.000000  0.000000   \n",
       "1                 0.125     0.000000      0.000000  0.000000   \n",
       "2                 0.000     0.000000      0.000000  0.000000   \n",
       "3                 0.000     0.000000      0.000000  0.000000   \n",
       "4                 0.000     0.000000      0.000000  0.000000   \n",
       "5                 0.000     0.000000      0.000000  0.000000   \n",
       "6                 0.000     0.000000      0.000000  0.000000   \n",
       "7                 0.000     0.086957      0.000000  0.043478   \n",
       "8                 0.000     0.000000      0.000000  0.000000   \n",
       "9                 0.000     0.000000      0.000000  0.000000   \n",
       "10                0.000     0.111111      0.111111  0.000000   \n",
       "11                0.000     0.000000      0.000000  0.000000   \n",
       "12                0.000     0.040000      0.000000  0.000000   \n",
       "\n",
       "    Volleyball Court  Yoga Studio  \n",
       "0               0.00         0.00  \n",
       "1               0.00         0.00  \n",
       "2               0.00         0.00  \n",
       "3               0.00         0.00  \n",
       "4               0.00         0.00  \n",
       "5               0.00         0.00  \n",
       "6               0.25         0.00  \n",
       "7               0.00         0.00  \n",
       "8               0.00         0.00  \n",
       "9               0.00         0.00  \n",
       "10              0.00         0.00  \n",
       "11              0.00         0.00  \n",
       "12              0.00         0.04  "
      ]
     },
     "execution_count": 24,
     "metadata": {},
     "output_type": "execute_result"
    }
   ],
   "source": [
    "nmum_grouped = nmum_onehot.groupby('Neighborhood').mean().reset_index()\n",
    "nmum_grouped"
   ]
  },
  {
   "cell_type": "markdown",
   "metadata": {},
   "source": [
    "#### Let's confirm the new size"
   ]
  },
  {
   "cell_type": "code",
   "execution_count": 25,
   "metadata": {},
   "outputs": [
    {
     "data": {
      "text/plain": [
       "(13, 17)"
      ]
     },
     "execution_count": 25,
     "metadata": {},
     "output_type": "execute_result"
    }
   ],
   "source": [
    "nmum_grouped.shape"
   ]
  },
  {
   "cell_type": "markdown",
   "metadata": {},
   "source": [
    "#### Let's print each neighborhood along with the top 5 most common venues"
   ]
  },
  {
   "cell_type": "code",
   "execution_count": 26,
   "metadata": {},
   "outputs": [
    {
     "data": {
      "text/plain": [
       "<Figure size 720x504 with 0 Axes>"
      ]
     },
     "metadata": {},
     "output_type": "display_data"
    },
    {
     "data": {
      "image/png": "[encoded data removed]",
      "text/plain": [
       "<Figure size 360x360 with 1 Axes>"
      ]
     },
     "metadata": {
      "needs_background": "light"
     },
     "output_type": "display_data"
    },
    {
     "data": {
      "text/plain": [
       "<Figure size 720x504 with 0 Axes>"
      ]
     },
     "metadata": {},
     "output_type": "display_data"
    },
    {
     "data": {
      "image/png": "[encoded data removed]",
      "text/plain": [
       "<Figure size 360x360 with 1 Axes>"
      ]
     },
     "metadata": {
      "needs_background": "light"
     },
     "output_type": "display_data"
    },
    {
     "data": {
      "text/plain": [
       "<Figure size 720x504 with 0 Axes>"
      ]
     },
     "metadata": {},
     "output_type": "display_data"
    },
    {
     "data": {
      "image/png": "[encoded data removed]",
      "text/plain": [
       "<Figure size 360x360 with 1 Axes>"
      ]
     },
     "metadata": {
      "needs_background": "light"
     },
     "output_type": "display_data"
    },
    {
     "data": {
      "text/plain": [
       "<Figure size 720x504 with 0 Axes>"
      ]
     },
     "metadata": {},
     "output_type": "display_data"
    },
    {
     "data": {
      "image/png": "[encoded data removed]",
      "text/plain": [
       "<Figure size 360x360 with 1 Axes>"
      ]
     },
     "metadata": {
      "needs_background": "light"
     },
     "output_type": "display_data"
    },
    {
     "data": {
      "text/plain": [
       "<Figure size 720x504 with 0 Axes>"
      ]
     },
     "metadata": {},
     "output_type": "display_data"
    },
    {
     "data": {
      "image/png": "[encoded data removed]",
      "text/plain": [
       "<Figure size 360x360 with 1 Axes>"
      ]
     },
     "metadata": {
      "needs_background": "light"
     },
     "output_type": "display_data"
    },
    {
     "data": {
      "text/plain": [
       "<Figure size 720x504 with 0 Axes>"
      ]
     },
     "metadata": {},
     "output_type": "display_data"
    },
    {
     "data": {
      "image/png": "[encoded data removed]",
      "text/plain": [
       "<Figure size 360x360 with 1 Axes>"
      ]
     },
     "metadata": {
      "needs_background": "light"
     },
     "output_type": "display_data"
    },
    {
     "data": {
      "text/plain": [
       "<Figure size 720x504 with 0 Axes>"
      ]
     },
     "metadata": {},
     "output_type": "display_data"
    },
    {
     "data": {
      "image/png": "[encoded data removed]",
      "text/plain": [
       "<Figure size 360x360 with 1 Axes>"
      ]
     },
     "metadata": {
      "needs_background": "light"
     },
     "output_type": "display_data"
    },
    {
     "data": {
      "text/plain": [
       "<Figure size 720x504 with 0 Axes>"
      ]
     },
     "metadata": {},
     "output_type": "display_data"
    },
    {
     "data": {
      "image/png": "[encoded data removed]",
      "text/plain": [
       "<Figure size 360x360 with 1 Axes>"
      ]
     },
     "metadata": {
      "needs_background": "light"
     },
     "output_type": "display_data"
    },
    {
     "data": {
      "text/plain": [
       "<Figure size 720x504 with 0 Axes>"
      ]
     },
     "metadata": {},
     "output_type": "display_data"
    },
    {
     "data": {
      "image/png": "[encoded data removed]",
      "text/plain": [
       "<Figure size 360x360 with 1 Axes>"
      ]
     },
     "metadata": {
      "needs_background": "light"
     },
     "output_type": "display_data"
    },
    {
     "data": {
      "text/plain": [
       "<Figure size 720x504 with 0 Axes>"
      ]
     },
     "metadata": {},
     "output_type": "display_data"
    },
    {
     "data": {
      "image/png": "[encoded data removed]",
      "text/plain": [
       "<Figure size 360x360 with 1 Axes>"
      ]
     },
     "metadata": {
      "needs_background": "light"
     },
     "output_type": "display_data"
    },
    {
     "data": {
      "text/plain": [
       "<Figure size 720x504 with 0 Axes>"
      ]
     },
     "metadata": {},
     "output_type": "display_data"
    },
    {
     "data": {
      "image/png": "[encoded data removed]",
      "text/plain": [
       "<Figure size 360x360 with 1 Axes>"
      ]
     },
     "metadata": {
      "needs_background": "light"
     },
     "output_type": "display_data"
    },
    {
     "data": {
      "text/plain": [
       "<Figure size 720x504 with 0 Axes>"
      ]
     },
     "metadata": {},
     "output_type": "display_data"
    },
    {
     "data": {
      "image/png": "[encoded data removed]",
      "text/plain": [
       "<Figure size 360x360 with 1 Axes>"
      ]
     },
     "metadata": {
      "needs_background": "light"
     },
     "output_type": "display_data"
    },
    {
     "data": {
      "text/plain": [
       "<Figure size 720x504 with 0 Axes>"
      ]
     },
     "metadata": {},
     "output_type": "display_data"
    },
    {
     "data": {
      "image/png": "[encoded data removed]",
      "text/plain": [
       "<Figure size 360x360 with 1 Axes>"
      ]
     },
     "metadata": {
      "needs_background": "light"
     },
     "output_type": "display_data"
    }
   ],
   "source": [
    "num_top_venues = 5\n",
    "\n",
    "for hood in nmum_grouped['Neighborhood']:\n",
    "    temp = nmum_grouped[nmum_grouped['Neighborhood'] == hood].T.reset_index()\n",
    "    temp.columns = ['venue','freq']\n",
    "    temp = temp.iloc[1:]\n",
    "    temp['freq'] = temp['freq'].astype(float)\n",
    "    temp = temp.round({'freq': 2})\n",
    "    plt.figure(figsize=(10,7))\n",
    "    sns.catplot(y=\"freq\", x=\"venue\", kind=\"bar\",\n",
    "            palette=\"pastel\", edgecolor=\".6\",\n",
    "            data=temp.sort_values('freq', ascending=False).reset_index(drop=True).head(num_top_venues))\n",
    "    plt.xticks(rotation=-45)\n",
    "    plt.title(hood)"
   ]
  },
  {
   "cell_type": "markdown",
   "metadata": {},
   "source": [
    "#### Let's put that into a *pandas* dataframe"
   ]
  },
  {
   "cell_type": "markdown",
   "metadata": {},
   "source": [
    "First, let's write a function to sort the venues in descending order."
   ]
  },
  {
   "cell_type": "code",
   "execution_count": 27,
   "metadata": {},
   "outputs": [],
   "source": [
    "def return_most_common_venues(row, num_top_venues):\n",
    "    row_categories = row.iloc[1:]\n",
    "    row_categories_sorted = row_categories.sort_values(ascending=False)\n",
    "    \n",
    "    return row_categories_sorted.index.values[0:num_top_venues]"
   ]
  },
  {
   "cell_type": "markdown",
   "metadata": {},
   "source": [
    "Now let's create the new dataframe and display the top 10 venues for each neighborhood."
   ]
  },
  {
   "cell_type": "code",
   "execution_count": 28,
   "metadata": {},
   "outputs": [
    {
     "data": {
      "text/html": [
       "<div>\n",
       "<style scoped>\n",
       "    .dataframe tbody tr th:only-of-type {\n",
       "        vertical-align: middle;\n",
       "    }\n",
       "\n",
       "    .dataframe tbody tr th {\n",
       "        vertical-align: top;\n",
       "    }\n",
       "\n",
       "    .dataframe thead th {\n",
       "        text-align: right;\n",
       "    }\n",
       "</style>\n",
       "<table border=\"1\" class=\"dataframe\">\n",
       "  <thead>\n",
       "    <tr style=\"text-align: right;\">\n",
       "      <th></th>\n",
       "      <th>Neighborhood</th>\n",
       "      <th>1st Most Common Venue</th>\n",
       "      <th>2nd Most Common Venue</th>\n",
       "      <th>3rd Most Common Venue</th>\n",
       "      <th>4th Most Common Venue</th>\n",
       "      <th>5th Most Common Venue</th>\n",
       "      <th>6th Most Common Venue</th>\n",
       "      <th>7th Most Common Venue</th>\n",
       "      <th>8th Most Common Venue</th>\n",
       "      <th>9th Most Common Venue</th>\n",
       "      <th>10th Most Common Venue</th>\n",
       "    </tr>\n",
       "  </thead>\n",
       "  <tbody>\n",
       "    <tr>\n",
       "      <th>0</th>\n",
       "      <td>Airoli</td>\n",
       "      <td>Gym</td>\n",
       "      <td>Sports Club</td>\n",
       "      <td>Athletics &amp; Sports</td>\n",
       "      <td>Yoga Studio</td>\n",
       "      <td>Volleyball Court</td>\n",
       "      <td>Track</td>\n",
       "      <td>Tennis Court</td>\n",
       "      <td>Sporting Goods Shop</td>\n",
       "      <td>Soccer Field</td>\n",
       "      <td>Residential Building (Apartment / Condo)</td>\n",
       "    </tr>\n",
       "    <tr>\n",
       "      <th>1</th>\n",
       "      <td>CBD Belapur</td>\n",
       "      <td>Gym</td>\n",
       "      <td>Athletics &amp; Sports</td>\n",
       "      <td>Sporting Goods Shop</td>\n",
       "      <td>Yoga Studio</td>\n",
       "      <td>Volleyball Court</td>\n",
       "      <td>Track</td>\n",
       "      <td>Tennis Court</td>\n",
       "      <td>Sports Club</td>\n",
       "      <td>Soccer Field</td>\n",
       "      <td>Residential Building (Apartment / Condo)</td>\n",
       "    </tr>\n",
       "    <tr>\n",
       "      <th>2</th>\n",
       "      <td>Ghansoli</td>\n",
       "      <td>Gym</td>\n",
       "      <td>Yoga Studio</td>\n",
       "      <td>Volleyball Court</td>\n",
       "      <td>Track</td>\n",
       "      <td>Tennis Court</td>\n",
       "      <td>Sports Club</td>\n",
       "      <td>Sporting Goods Shop</td>\n",
       "      <td>Soccer Field</td>\n",
       "      <td>Residential Building (Apartment / Condo)</td>\n",
       "      <td>Martial Arts Dojo</td>\n",
       "    </tr>\n",
       "    <tr>\n",
       "      <th>3</th>\n",
       "      <td>Juinagar</td>\n",
       "      <td>Gym</td>\n",
       "      <td>Soccer Field</td>\n",
       "      <td>Athletics &amp; Sports</td>\n",
       "      <td>Yoga Studio</td>\n",
       "      <td>Volleyball Court</td>\n",
       "      <td>Track</td>\n",
       "      <td>Tennis Court</td>\n",
       "      <td>Sports Club</td>\n",
       "      <td>Sporting Goods Shop</td>\n",
       "      <td>Residential Building (Apartment / Condo)</td>\n",
       "    </tr>\n",
       "    <tr>\n",
       "      <th>4</th>\n",
       "      <td>Kharghar</td>\n",
       "      <td>Gym</td>\n",
       "      <td>Soccer Field</td>\n",
       "      <td>Athletics &amp; Sports</td>\n",
       "      <td>Yoga Studio</td>\n",
       "      <td>Volleyball Court</td>\n",
       "      <td>Track</td>\n",
       "      <td>Tennis Court</td>\n",
       "      <td>Sports Club</td>\n",
       "      <td>Sporting Goods Shop</td>\n",
       "      <td>Residential Building (Apartment / Condo)</td>\n",
       "    </tr>\n",
       "  </tbody>\n",
       "</table>\n",
       "</div>"
      ],
      "text/plain": [
       "  Neighborhood 1st Most Common Venue 2nd Most Common Venue  \\\n",
       "0       Airoli                   Gym           Sports Club   \n",
       "1  CBD Belapur                   Gym    Athletics & Sports   \n",
       "2     Ghansoli                   Gym           Yoga Studio   \n",
       "3     Juinagar                   Gym          Soccer Field   \n",
       "4     Kharghar                   Gym          Soccer Field   \n",
       "\n",
       "  3rd Most Common Venue 4th Most Common Venue 5th Most Common Venue  \\\n",
       "0    Athletics & Sports           Yoga Studio      Volleyball Court   \n",
       "1   Sporting Goods Shop           Yoga Studio      Volleyball Court   \n",
       "2      Volleyball Court                 Track          Tennis Court   \n",
       "3    Athletics & Sports           Yoga Studio      Volleyball Court   \n",
       "4    Athletics & Sports           Yoga Studio      Volleyball Court   \n",
       "\n",
       "  6th Most Common Venue 7th Most Common Venue 8th Most Common Venue  \\\n",
       "0                 Track          Tennis Court   Sporting Goods Shop   \n",
       "1                 Track          Tennis Court           Sports Club   \n",
       "2           Sports Club   Sporting Goods Shop          Soccer Field   \n",
       "3                 Track          Tennis Court           Sports Club   \n",
       "4                 Track          Tennis Court           Sports Club   \n",
       "\n",
       "                      9th Most Common Venue  \\\n",
       "0                              Soccer Field   \n",
       "1                              Soccer Field   \n",
       "2  Residential Building (Apartment / Condo)   \n",
       "3                       Sporting Goods Shop   \n",
       "4                       Sporting Goods Shop   \n",
       "\n",
       "                     10th Most Common Venue  \n",
       "0  Residential Building (Apartment / Condo)  \n",
       "1  Residential Building (Apartment / Condo)  \n",
       "2                         Martial Arts Dojo  \n",
       "3  Residential Building (Apartment / Condo)  \n",
       "4  Residential Building (Apartment / Condo)  "
      ]
     },
     "execution_count": 28,
     "metadata": {},
     "output_type": "execute_result"
    }
   ],
   "source": [
    "num_top_venues = 10\n",
    "\n",
    "indicators = ['st', 'nd', 'rd']\n",
    "\n",
    "# create columns according to number of top venues\n",
    "columns = ['Neighborhood']\n",
    "for ind in np.arange(num_top_venues):\n",
    "    try:\n",
    "        columns.append('{}{} Most Common Venue'.format(ind+1, indicators[ind]))\n",
    "    except:\n",
    "        columns.append('{}th Most Common Venue'.format(ind+1))\n",
    "\n",
    "# create a new dataframe\n",
    "neighborhoods_venues_sorted = pd.DataFrame(columns=columns)\n",
    "neighborhoods_venues_sorted['Neighborhood'] = nmum_grouped['Neighborhood']\n",
    "\n",
    "for ind in np.arange(nmum_grouped.shape[0]):\n",
    "    neighborhoods_venues_sorted.iloc[ind, 1:] = return_most_common_venues(nmum_grouped.iloc[ind, :], num_top_venues)\n",
    "\n",
    "neighborhoods_venues_sorted.head()"
   ]
  },
  {
   "cell_type": "markdown",
   "metadata": {},
   "source": [
    "## Cluster Neighborhoods"
   ]
  },
  {
   "cell_type": "markdown",
   "metadata": {},
   "source": [
    "Run *k*-means to cluster the neighborhood into 4 clusters."
   ]
  },
  {
   "cell_type": "code",
   "execution_count": 29,
   "metadata": {},
   "outputs": [
    {
     "data": {
      "text/plain": [
       "array([0, 0, 2, 1, 2, 2, 3, 0, 3, 1], dtype=int32)"
      ]
     },
     "execution_count": 29,
     "metadata": {},
     "output_type": "execute_result"
    }
   ],
   "source": [
    "# set number of clusters\n",
    "kclusters = 4\n",
    "\n",
    "nmum_grouped_clustering = nmum_grouped.drop('Neighborhood', 1)\n",
    "\n",
    "# run k-means clustering\n",
    "kmeans = KMeans(n_clusters=kclusters, random_state=0).fit(nmum_grouped_clustering)\n",
    "\n",
    "# check cluster labels generated for each row in the dataframe\n",
    "kmeans.labels_[0:10]"
   ]
  },
  {
   "cell_type": "markdown",
   "metadata": {},
   "source": [
    "Let's create a new dataframe that includes the cluster as well as the top 10 venues for each neighborhood."
   ]
  },
  {
   "cell_type": "code",
   "execution_count": 30,
   "metadata": {},
   "outputs": [
    {
     "data": {
      "text/html": [
       "<div>\n",
       "<style scoped>\n",
       "    .dataframe tbody tr th:only-of-type {\n",
       "        vertical-align: middle;\n",
       "    }\n",
       "\n",
       "    .dataframe tbody tr th {\n",
       "        vertical-align: top;\n",
       "    }\n",
       "\n",
       "    .dataframe thead th {\n",
       "        text-align: right;\n",
       "    }\n",
       "</style>\n",
       "<table border=\"1\" class=\"dataframe\">\n",
       "  <thead>\n",
       "    <tr style=\"text-align: right;\">\n",
       "      <th></th>\n",
       "      <th>Neighborhood</th>\n",
       "      <th>Latitude</th>\n",
       "      <th>Longitude</th>\n",
       "      <th>Cluster Labels</th>\n",
       "      <th>1st Most Common Venue</th>\n",
       "      <th>2nd Most Common Venue</th>\n",
       "      <th>3rd Most Common Venue</th>\n",
       "      <th>4th Most Common Venue</th>\n",
       "      <th>5th Most Common Venue</th>\n",
       "      <th>6th Most Common Venue</th>\n",
       "      <th>7th Most Common Venue</th>\n",
       "      <th>8th Most Common Venue</th>\n",
       "      <th>9th Most Common Venue</th>\n",
       "      <th>10th Most Common Venue</th>\n",
       "    </tr>\n",
       "  </thead>\n",
       "  <tbody>\n",
       "    <tr>\n",
       "      <th>0</th>\n",
       "      <td>Airoli</td>\n",
       "      <td>19.158272</td>\n",
       "      <td>72.996709</td>\n",
       "      <td>0</td>\n",
       "      <td>Gym</td>\n",
       "      <td>Sports Club</td>\n",
       "      <td>Athletics &amp; Sports</td>\n",
       "      <td>Yoga Studio</td>\n",
       "      <td>Volleyball Court</td>\n",
       "      <td>Track</td>\n",
       "      <td>Tennis Court</td>\n",
       "      <td>Sporting Goods Shop</td>\n",
       "      <td>Soccer Field</td>\n",
       "      <td>Residential Building (Apartment / Condo)</td>\n",
       "    </tr>\n",
       "    <tr>\n",
       "      <th>1</th>\n",
       "      <td>Rabale</td>\n",
       "      <td>19.136637</td>\n",
       "      <td>73.002781</td>\n",
       "      <td>3</td>\n",
       "      <td>Gym</td>\n",
       "      <td>Basketball Court</td>\n",
       "      <td>Yoga Studio</td>\n",
       "      <td>Volleyball Court</td>\n",
       "      <td>Track</td>\n",
       "      <td>Tennis Court</td>\n",
       "      <td>Sports Club</td>\n",
       "      <td>Sporting Goods Shop</td>\n",
       "      <td>Soccer Field</td>\n",
       "      <td>Residential Building (Apartment / Condo)</td>\n",
       "    </tr>\n",
       "    <tr>\n",
       "      <th>2</th>\n",
       "      <td>Ghansoli</td>\n",
       "      <td>19.119331</td>\n",
       "      <td>72.999510</td>\n",
       "      <td>2</td>\n",
       "      <td>Gym</td>\n",
       "      <td>Yoga Studio</td>\n",
       "      <td>Volleyball Court</td>\n",
       "      <td>Track</td>\n",
       "      <td>Tennis Court</td>\n",
       "      <td>Sports Club</td>\n",
       "      <td>Sporting Goods Shop</td>\n",
       "      <td>Soccer Field</td>\n",
       "      <td>Residential Building (Apartment / Condo)</td>\n",
       "      <td>Martial Arts Dojo</td>\n",
       "    </tr>\n",
       "    <tr>\n",
       "      <th>3</th>\n",
       "      <td>Kopar Khairane</td>\n",
       "      <td>19.102852</td>\n",
       "      <td>73.003075</td>\n",
       "      <td>2</td>\n",
       "      <td>Gym</td>\n",
       "      <td>Martial Arts Dojo</td>\n",
       "      <td>Yoga Studio</td>\n",
       "      <td>Volleyball Court</td>\n",
       "      <td>Track</td>\n",
       "      <td>Tennis Court</td>\n",
       "      <td>Sports Club</td>\n",
       "      <td>Sporting Goods Shop</td>\n",
       "      <td>Soccer Field</td>\n",
       "      <td>Residential Building (Apartment / Condo)</td>\n",
       "    </tr>\n",
       "    <tr>\n",
       "      <th>4</th>\n",
       "      <td>Turbhe</td>\n",
       "      <td>19.076165</td>\n",
       "      <td>73.017662</td>\n",
       "      <td>1</td>\n",
       "      <td>Gym</td>\n",
       "      <td>Athletics &amp; Sports</td>\n",
       "      <td>Soccer Field</td>\n",
       "      <td>Residential Building (Apartment / Condo)</td>\n",
       "      <td>Hotel</td>\n",
       "      <td>Golf Course</td>\n",
       "      <td>Basketball Court</td>\n",
       "      <td>Baseball Field</td>\n",
       "      <td>Yoga Studio</td>\n",
       "      <td>Volleyball Court</td>\n",
       "    </tr>\n",
       "  </tbody>\n",
       "</table>\n",
       "</div>"
      ],
      "text/plain": [
       "     Neighborhood   Latitude  Longitude  Cluster Labels 1st Most Common Venue  \\\n",
       "0          Airoli  19.158272  72.996709               0                   Gym   \n",
       "1          Rabale  19.136637  73.002781               3                   Gym   \n",
       "2        Ghansoli  19.119331  72.999510               2                   Gym   \n",
       "3  Kopar Khairane  19.102852  73.003075               2                   Gym   \n",
       "4          Turbhe  19.076165  73.017662               1                   Gym   \n",
       "\n",
       "  2nd Most Common Venue 3rd Most Common Venue  \\\n",
       "0           Sports Club    Athletics & Sports   \n",
       "1      Basketball Court           Yoga Studio   \n",
       "2           Yoga Studio      Volleyball Court   \n",
       "3     Martial Arts Dojo           Yoga Studio   \n",
       "4    Athletics & Sports          Soccer Field   \n",
       "\n",
       "                      4th Most Common Venue 5th Most Common Venue  \\\n",
       "0                               Yoga Studio      Volleyball Court   \n",
       "1                          Volleyball Court                 Track   \n",
       "2                                     Track          Tennis Court   \n",
       "3                          Volleyball Court                 Track   \n",
       "4  Residential Building (Apartment / Condo)                 Hotel   \n",
       "\n",
       "  6th Most Common Venue 7th Most Common Venue 8th Most Common Venue  \\\n",
       "0                 Track          Tennis Court   Sporting Goods Shop   \n",
       "1          Tennis Court           Sports Club   Sporting Goods Shop   \n",
       "2           Sports Club   Sporting Goods Shop          Soccer Field   \n",
       "3          Tennis Court           Sports Club   Sporting Goods Shop   \n",
       "4           Golf Course      Basketball Court        Baseball Field   \n",
       "\n",
       "                      9th Most Common Venue  \\\n",
       "0                              Soccer Field   \n",
       "1                              Soccer Field   \n",
       "2  Residential Building (Apartment / Condo)   \n",
       "3                              Soccer Field   \n",
       "4                               Yoga Studio   \n",
       "\n",
       "                     10th Most Common Venue  \n",
       "0  Residential Building (Apartment / Condo)  \n",
       "1  Residential Building (Apartment / Condo)  \n",
       "2                         Martial Arts Dojo  \n",
       "3  Residential Building (Apartment / Condo)  \n",
       "4                          Volleyball Court  "
      ]
     },
     "execution_count": 30,
     "metadata": {},
     "output_type": "execute_result"
    }
   ],
   "source": [
    "# add clustering labels\n",
    "neighborhoods_venues_sorted.insert(0, 'Cluster Labels', kmeans.labels_)\n",
    "\n",
    "nmum_merged = neighborhoods\n",
    "\n",
    "# merge nmum_grouped with neighborhoods to add latitude/longitude for each neighborhood\n",
    "nmum_merged = nmum_merged.join(neighborhoods_venues_sorted.set_index('Neighborhood'), on='Neighborhood')\n",
    "\n",
    "nmum_merged.head()"
   ]
  },
  {
   "cell_type": "markdown",
   "metadata": {},
   "source": [
    "Finally, let's visualize the resulting clusters"
   ]
  },
  {
   "cell_type": "code",
   "execution_count": 31,
   "metadata": {},
   "outputs": [
    {
     "data": {
      "text/html": [
       "<div style=\"width:100%;\"><div style=\"position:relative;width:100%;height:0;padding-bottom:60%;\"><span style=\"color:#565656\">Make this Notebook Trusted to load map: File -> Trust Notebook</span><iframe src=\"about:blank\" style=\"position:absolute;width:100%;height:100%;left:0;top:0;border:none !important;\" data-html=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 onload=\"this.contentDocument.open();this.contentDocument.write(atob(this.getAttribute('data-html')));this.contentDocument.close();\" allowfullscreen webkitallowfullscreen mozallowfullscreen></iframe></div></div>"
      ],
      "text/plain": [
       "<folium.folium.Map at 0x7fae34116400>"
      ]
     },
     "execution_count": 31,
     "metadata": {},
     "output_type": "execute_result"
    }
   ],
   "source": [
    "# create map\n",
    "map_clusters = folium.Map(location=[latitude, longitude], zoom_start=11)\n",
    "\n",
    "# set color scheme for the clusters\n",
    "x = np.arange(kclusters)\n",
    "ys = [i + x + (i*x)**2 for i in range(kclusters)]\n",
    "colors_array = cm.rainbow(np.linspace(0, 1, len(ys)))\n",
    "rainbow = [colors.rgb2hex(i) for i in colors_array]\n",
    "\n",
    "# add markers to the map\n",
    "markers_colors = []\n",
    "for lat, lon, poi, cluster in zip(nmum_merged['Latitude'], nmum_merged['Longitude'], nmum_merged['Neighborhood'], nmum_merged['Cluster Labels']):\n",
    "    label = folium.Popup(str(poi) + ' Cluster ' + str(cluster), parse_html=True)\n",
    "    folium.CircleMarker(\n",
    "        [lat, lon],\n",
    "        radius=5,\n",
    "        popup=label,\n",
    "        color=rainbow[cluster-1],\n",
    "        fill=True,\n",
    "        fill_color=rainbow[cluster-1],\n",
    "        fill_opacity=0.7).add_to(map_clusters)\n",
    "       \n",
    "map_clusters"
   ]
  },
  {
   "cell_type": "markdown",
   "metadata": {},
   "source": [
    "## Examine Clusters"
   ]
  },
  {
   "cell_type": "markdown",
   "metadata": {},
   "source": [
    "#### Cluster 1 (Red)"
   ]
  },
  {
   "cell_type": "code",
   "execution_count": 32,
   "metadata": {},
   "outputs": [
    {
     "data": {
      "text/html": [
       "<div>\n",
       "<style scoped>\n",
       "    .dataframe tbody tr th:only-of-type {\n",
       "        vertical-align: middle;\n",
       "    }\n",
       "\n",
       "    .dataframe tbody tr th {\n",
       "        vertical-align: top;\n",
       "    }\n",
       "\n",
       "    .dataframe thead th {\n",
       "        text-align: right;\n",
       "    }\n",
       "</style>\n",
       "<table border=\"1\" class=\"dataframe\">\n",
       "  <thead>\n",
       "    <tr style=\"text-align: right;\">\n",
       "      <th></th>\n",
       "      <th>Neighborhood</th>\n",
       "      <th>1st Most Common Venue</th>\n",
       "      <th>2nd Most Common Venue</th>\n",
       "      <th>3rd Most Common Venue</th>\n",
       "      <th>4th Most Common Venue</th>\n",
       "      <th>5th Most Common Venue</th>\n",
       "      <th>6th Most Common Venue</th>\n",
       "      <th>7th Most Common Venue</th>\n",
       "      <th>8th Most Common Venue</th>\n",
       "      <th>9th Most Common Venue</th>\n",
       "      <th>10th Most Common Venue</th>\n",
       "    </tr>\n",
       "  </thead>\n",
       "  <tbody>\n",
       "    <tr>\n",
       "      <th>0</th>\n",
       "      <td>Airoli</td>\n",
       "      <td>Gym</td>\n",
       "      <td>Sports Club</td>\n",
       "      <td>Athletics &amp; Sports</td>\n",
       "      <td>Yoga Studio</td>\n",
       "      <td>Volleyball Court</td>\n",
       "      <td>Track</td>\n",
       "      <td>Tennis Court</td>\n",
       "      <td>Sporting Goods Shop</td>\n",
       "      <td>Soccer Field</td>\n",
       "      <td>Residential Building (Apartment / Condo)</td>\n",
       "    </tr>\n",
       "    <tr>\n",
       "      <th>8</th>\n",
       "      <td>Nerul</td>\n",
       "      <td>Gym</td>\n",
       "      <td>Athletics &amp; Sports</td>\n",
       "      <td>Sports Club</td>\n",
       "      <td>Track</td>\n",
       "      <td>Yoga Studio</td>\n",
       "      <td>Volleyball Court</td>\n",
       "      <td>Tennis Court</td>\n",
       "      <td>Sporting Goods Shop</td>\n",
       "      <td>Soccer Field</td>\n",
       "      <td>Residential Building (Apartment / Condo)</td>\n",
       "    </tr>\n",
       "    <tr>\n",
       "      <th>10</th>\n",
       "      <td>CBD Belapur</td>\n",
       "      <td>Gym</td>\n",
       "      <td>Athletics &amp; Sports</td>\n",
       "      <td>Sporting Goods Shop</td>\n",
       "      <td>Yoga Studio</td>\n",
       "      <td>Volleyball Court</td>\n",
       "      <td>Track</td>\n",
       "      <td>Tennis Court</td>\n",
       "      <td>Sports Club</td>\n",
       "      <td>Soccer Field</td>\n",
       "      <td>Residential Building (Apartment / Condo)</td>\n",
       "    </tr>\n",
       "  </tbody>\n",
       "</table>\n",
       "</div>"
      ],
      "text/plain": [
       "   Neighborhood 1st Most Common Venue 2nd Most Common Venue  \\\n",
       "0        Airoli                   Gym           Sports Club   \n",
       "8         Nerul                   Gym    Athletics & Sports   \n",
       "10  CBD Belapur                   Gym    Athletics & Sports   \n",
       "\n",
       "   3rd Most Common Venue 4th Most Common Venue 5th Most Common Venue  \\\n",
       "0     Athletics & Sports           Yoga Studio      Volleyball Court   \n",
       "8            Sports Club                 Track           Yoga Studio   \n",
       "10   Sporting Goods Shop           Yoga Studio      Volleyball Court   \n",
       "\n",
       "   6th Most Common Venue 7th Most Common Venue 8th Most Common Venue  \\\n",
       "0                  Track          Tennis Court   Sporting Goods Shop   \n",
       "8       Volleyball Court          Tennis Court   Sporting Goods Shop   \n",
       "10                 Track          Tennis Court           Sports Club   \n",
       "\n",
       "   9th Most Common Venue                    10th Most Common Venue  \n",
       "0           Soccer Field  Residential Building (Apartment / Condo)  \n",
       "8           Soccer Field  Residential Building (Apartment / Condo)  \n",
       "10          Soccer Field  Residential Building (Apartment / Condo)  "
      ]
     },
     "execution_count": 32,
     "metadata": {},
     "output_type": "execute_result"
    }
   ],
   "source": [
    "cluster1 = nmum_merged.loc[nmum_merged['Cluster Labels'] == 0, nmum_merged.columns[[0] + list(range(4, nmum_merged.shape[1]))]]\n",
    "cluster1"
   ]
  },
  {
   "cell_type": "markdown",
   "metadata": {},
   "source": [
    "#### Cluster 2 (Purple)"
   ]
  },
  {
   "cell_type": "code",
   "execution_count": 33,
   "metadata": {},
   "outputs": [
    {
     "data": {
      "text/html": [
       "<div>\n",
       "<style scoped>\n",
       "    .dataframe tbody tr th:only-of-type {\n",
       "        vertical-align: middle;\n",
       "    }\n",
       "\n",
       "    .dataframe tbody tr th {\n",
       "        vertical-align: top;\n",
       "    }\n",
       "\n",
       "    .dataframe thead th {\n",
       "        text-align: right;\n",
       "    }\n",
       "</style>\n",
       "<table border=\"1\" class=\"dataframe\">\n",
       "  <thead>\n",
       "    <tr style=\"text-align: right;\">\n",
       "      <th></th>\n",
       "      <th>Neighborhood</th>\n",
       "      <th>1st Most Common Venue</th>\n",
       "      <th>2nd Most Common Venue</th>\n",
       "      <th>3rd Most Common Venue</th>\n",
       "      <th>4th Most Common Venue</th>\n",
       "      <th>5th Most Common Venue</th>\n",
       "      <th>6th Most Common Venue</th>\n",
       "      <th>7th Most Common Venue</th>\n",
       "      <th>8th Most Common Venue</th>\n",
       "      <th>9th Most Common Venue</th>\n",
       "      <th>10th Most Common Venue</th>\n",
       "    </tr>\n",
       "  </thead>\n",
       "  <tbody>\n",
       "    <tr>\n",
       "      <th>4</th>\n",
       "      <td>Turbhe</td>\n",
       "      <td>Gym</td>\n",
       "      <td>Athletics &amp; Sports</td>\n",
       "      <td>Soccer Field</td>\n",
       "      <td>Residential Building (Apartment / Condo)</td>\n",
       "      <td>Hotel</td>\n",
       "      <td>Golf Course</td>\n",
       "      <td>Basketball Court</td>\n",
       "      <td>Baseball Field</td>\n",
       "      <td>Yoga Studio</td>\n",
       "      <td>Volleyball Court</td>\n",
       "    </tr>\n",
       "    <tr>\n",
       "      <th>5</th>\n",
       "      <td>Sanpada</td>\n",
       "      <td>Gym</td>\n",
       "      <td>Athletics &amp; Sports</td>\n",
       "      <td>Soccer Field</td>\n",
       "      <td>Residential Building (Apartment / Condo)</td>\n",
       "      <td>Hotel</td>\n",
       "      <td>Golf Course</td>\n",
       "      <td>Basketball Court</td>\n",
       "      <td>Baseball Field</td>\n",
       "      <td>Yoga Studio</td>\n",
       "      <td>Volleyball Court</td>\n",
       "    </tr>\n",
       "    <tr>\n",
       "      <th>6</th>\n",
       "      <td>Vashi</td>\n",
       "      <td>Gym</td>\n",
       "      <td>Athletics &amp; Sports</td>\n",
       "      <td>Soccer Field</td>\n",
       "      <td>Basketball Court</td>\n",
       "      <td>Yoga Studio</td>\n",
       "      <td>Sports Club</td>\n",
       "      <td>Golf Course</td>\n",
       "      <td>Garden</td>\n",
       "      <td>Volleyball Court</td>\n",
       "      <td>Track</td>\n",
       "    </tr>\n",
       "    <tr>\n",
       "      <th>7</th>\n",
       "      <td>Juinagar</td>\n",
       "      <td>Gym</td>\n",
       "      <td>Soccer Field</td>\n",
       "      <td>Athletics &amp; Sports</td>\n",
       "      <td>Yoga Studio</td>\n",
       "      <td>Volleyball Court</td>\n",
       "      <td>Track</td>\n",
       "      <td>Tennis Court</td>\n",
       "      <td>Sports Club</td>\n",
       "      <td>Sporting Goods Shop</td>\n",
       "      <td>Residential Building (Apartment / Condo)</td>\n",
       "    </tr>\n",
       "  </tbody>\n",
       "</table>\n",
       "</div>"
      ],
      "text/plain": [
       "  Neighborhood 1st Most Common Venue 2nd Most Common Venue  \\\n",
       "4       Turbhe                   Gym    Athletics & Sports   \n",
       "5      Sanpada                   Gym    Athletics & Sports   \n",
       "6        Vashi                   Gym    Athletics & Sports   \n",
       "7     Juinagar                   Gym          Soccer Field   \n",
       "\n",
       "  3rd Most Common Venue                     4th Most Common Venue  \\\n",
       "4          Soccer Field  Residential Building (Apartment / Condo)   \n",
       "5          Soccer Field  Residential Building (Apartment / Condo)   \n",
       "6          Soccer Field                          Basketball Court   \n",
       "7    Athletics & Sports                               Yoga Studio   \n",
       "\n",
       "  5th Most Common Venue 6th Most Common Venue 7th Most Common Venue  \\\n",
       "4                 Hotel           Golf Course      Basketball Court   \n",
       "5                 Hotel           Golf Course      Basketball Court   \n",
       "6           Yoga Studio           Sports Club           Golf Course   \n",
       "7      Volleyball Court                 Track          Tennis Court   \n",
       "\n",
       "  8th Most Common Venue 9th Most Common Venue  \\\n",
       "4        Baseball Field           Yoga Studio   \n",
       "5        Baseball Field           Yoga Studio   \n",
       "6                Garden      Volleyball Court   \n",
       "7           Sports Club   Sporting Goods Shop   \n",
       "\n",
       "                     10th Most Common Venue  \n",
       "4                          Volleyball Court  \n",
       "5                          Volleyball Court  \n",
       "6                                     Track  \n",
       "7  Residential Building (Apartment / Condo)  "
      ]
     },
     "execution_count": 33,
     "metadata": {},
     "output_type": "execute_result"
    }
   ],
   "source": [
    "cluster2 = nmum_merged.loc[nmum_merged['Cluster Labels'] == 1, nmum_merged.columns[[0] + list(range(4, nmum_merged.shape[1]))]]\n",
    "cluster2"
   ]
  },
  {
   "cell_type": "markdown",
   "metadata": {},
   "source": [
    "#### Cluster 3 (Cyan)"
   ]
  },
  {
   "cell_type": "code",
   "execution_count": 34,
   "metadata": {},
   "outputs": [
    {
     "data": {
      "text/html": [
       "<div>\n",
       "<style scoped>\n",
       "    .dataframe tbody tr th:only-of-type {\n",
       "        vertical-align: middle;\n",
       "    }\n",
       "\n",
       "    .dataframe tbody tr th {\n",
       "        vertical-align: top;\n",
       "    }\n",
       "\n",
       "    .dataframe thead th {\n",
       "        text-align: right;\n",
       "    }\n",
       "</style>\n",
       "<table border=\"1\" class=\"dataframe\">\n",
       "  <thead>\n",
       "    <tr style=\"text-align: right;\">\n",
       "      <th></th>\n",
       "      <th>Neighborhood</th>\n",
       "      <th>1st Most Common Venue</th>\n",
       "      <th>2nd Most Common Venue</th>\n",
       "      <th>3rd Most Common Venue</th>\n",
       "      <th>4th Most Common Venue</th>\n",
       "      <th>5th Most Common Venue</th>\n",
       "      <th>6th Most Common Venue</th>\n",
       "      <th>7th Most Common Venue</th>\n",
       "      <th>8th Most Common Venue</th>\n",
       "      <th>9th Most Common Venue</th>\n",
       "      <th>10th Most Common Venue</th>\n",
       "    </tr>\n",
       "  </thead>\n",
       "  <tbody>\n",
       "    <tr>\n",
       "      <th>2</th>\n",
       "      <td>Ghansoli</td>\n",
       "      <td>Gym</td>\n",
       "      <td>Yoga Studio</td>\n",
       "      <td>Volleyball Court</td>\n",
       "      <td>Track</td>\n",
       "      <td>Tennis Court</td>\n",
       "      <td>Sports Club</td>\n",
       "      <td>Sporting Goods Shop</td>\n",
       "      <td>Soccer Field</td>\n",
       "      <td>Residential Building (Apartment / Condo)</td>\n",
       "      <td>Martial Arts Dojo</td>\n",
       "    </tr>\n",
       "    <tr>\n",
       "      <th>3</th>\n",
       "      <td>Kopar Khairane</td>\n",
       "      <td>Gym</td>\n",
       "      <td>Martial Arts Dojo</td>\n",
       "      <td>Yoga Studio</td>\n",
       "      <td>Volleyball Court</td>\n",
       "      <td>Track</td>\n",
       "      <td>Tennis Court</td>\n",
       "      <td>Sports Club</td>\n",
       "      <td>Sporting Goods Shop</td>\n",
       "      <td>Soccer Field</td>\n",
       "      <td>Residential Building (Apartment / Condo)</td>\n",
       "    </tr>\n",
       "    <tr>\n",
       "      <th>9</th>\n",
       "      <td>Seawoods-Darave</td>\n",
       "      <td>Gym</td>\n",
       "      <td>Tennis Court</td>\n",
       "      <td>Sports Club</td>\n",
       "      <td>Yoga Studio</td>\n",
       "      <td>Volleyball Court</td>\n",
       "      <td>Track</td>\n",
       "      <td>Sporting Goods Shop</td>\n",
       "      <td>Soccer Field</td>\n",
       "      <td>Residential Building (Apartment / Condo)</td>\n",
       "      <td>Martial Arts Dojo</td>\n",
       "    </tr>\n",
       "    <tr>\n",
       "      <th>11</th>\n",
       "      <td>Kharghar</td>\n",
       "      <td>Gym</td>\n",
       "      <td>Soccer Field</td>\n",
       "      <td>Athletics &amp; Sports</td>\n",
       "      <td>Yoga Studio</td>\n",
       "      <td>Volleyball Court</td>\n",
       "      <td>Track</td>\n",
       "      <td>Tennis Court</td>\n",
       "      <td>Sports Club</td>\n",
       "      <td>Sporting Goods Shop</td>\n",
       "      <td>Residential Building (Apartment / Condo)</td>\n",
       "    </tr>\n",
       "  </tbody>\n",
       "</table>\n",
       "</div>"
      ],
      "text/plain": [
       "       Neighborhood 1st Most Common Venue 2nd Most Common Venue  \\\n",
       "2          Ghansoli                   Gym           Yoga Studio   \n",
       "3    Kopar Khairane                   Gym     Martial Arts Dojo   \n",
       "9   Seawoods-Darave                   Gym          Tennis Court   \n",
       "11         Kharghar                   Gym          Soccer Field   \n",
       "\n",
       "   3rd Most Common Venue 4th Most Common Venue 5th Most Common Venue  \\\n",
       "2       Volleyball Court                 Track          Tennis Court   \n",
       "3            Yoga Studio      Volleyball Court                 Track   \n",
       "9            Sports Club           Yoga Studio      Volleyball Court   \n",
       "11    Athletics & Sports           Yoga Studio      Volleyball Court   \n",
       "\n",
       "   6th Most Common Venue 7th Most Common Venue 8th Most Common Venue  \\\n",
       "2            Sports Club   Sporting Goods Shop          Soccer Field   \n",
       "3           Tennis Court           Sports Club   Sporting Goods Shop   \n",
       "9                  Track   Sporting Goods Shop          Soccer Field   \n",
       "11                 Track          Tennis Court           Sports Club   \n",
       "\n",
       "                       9th Most Common Venue  \\\n",
       "2   Residential Building (Apartment / Condo)   \n",
       "3                               Soccer Field   \n",
       "9   Residential Building (Apartment / Condo)   \n",
       "11                       Sporting Goods Shop   \n",
       "\n",
       "                      10th Most Common Venue  \n",
       "2                          Martial Arts Dojo  \n",
       "3   Residential Building (Apartment / Condo)  \n",
       "9                          Martial Arts Dojo  \n",
       "11  Residential Building (Apartment / Condo)  "
      ]
     },
     "execution_count": 34,
     "metadata": {},
     "output_type": "execute_result"
    }
   ],
   "source": [
    "cluster3 = nmum_merged.loc[nmum_merged['Cluster Labels'] == 2, nmum_merged.columns[[0] + list(range(4, nmum_merged.shape[1]))]]\n",
    "cluster3"
   ]
  },
  {
   "cell_type": "markdown",
   "metadata": {},
   "source": [
    "#### Cluster 4 (Pale Yellow)"
   ]
  },
  {
   "cell_type": "code",
   "execution_count": 35,
   "metadata": {},
   "outputs": [
    {
     "data": {
      "text/html": [
       "<div>\n",
       "<style scoped>\n",
       "    .dataframe tbody tr th:only-of-type {\n",
       "        vertical-align: middle;\n",
       "    }\n",
       "\n",
       "    .dataframe tbody tr th {\n",
       "        vertical-align: top;\n",
       "    }\n",
       "\n",
       "    .dataframe thead th {\n",
       "        text-align: right;\n",
       "    }\n",
       "</style>\n",
       "<table border=\"1\" class=\"dataframe\">\n",
       "  <thead>\n",
       "    <tr style=\"text-align: right;\">\n",
       "      <th></th>\n",
       "      <th>Neighborhood</th>\n",
       "      <th>1st Most Common Venue</th>\n",
       "      <th>2nd Most Common Venue</th>\n",
       "      <th>3rd Most Common Venue</th>\n",
       "      <th>4th Most Common Venue</th>\n",
       "      <th>5th Most Common Venue</th>\n",
       "      <th>6th Most Common Venue</th>\n",
       "      <th>7th Most Common Venue</th>\n",
       "      <th>8th Most Common Venue</th>\n",
       "      <th>9th Most Common Venue</th>\n",
       "      <th>10th Most Common Venue</th>\n",
       "    </tr>\n",
       "  </thead>\n",
       "  <tbody>\n",
       "    <tr>\n",
       "      <th>1</th>\n",
       "      <td>Rabale</td>\n",
       "      <td>Gym</td>\n",
       "      <td>Basketball Court</td>\n",
       "      <td>Yoga Studio</td>\n",
       "      <td>Volleyball Court</td>\n",
       "      <td>Track</td>\n",
       "      <td>Tennis Court</td>\n",
       "      <td>Sports Club</td>\n",
       "      <td>Sporting Goods Shop</td>\n",
       "      <td>Soccer Field</td>\n",
       "      <td>Residential Building (Apartment / Condo)</td>\n",
       "    </tr>\n",
       "    <tr>\n",
       "      <th>12</th>\n",
       "      <td>Mansarovar</td>\n",
       "      <td>Gym</td>\n",
       "      <td>Volleyball Court</td>\n",
       "      <td>Basketball Court</td>\n",
       "      <td>Yoga Studio</td>\n",
       "      <td>Track</td>\n",
       "      <td>Tennis Court</td>\n",
       "      <td>Sports Club</td>\n",
       "      <td>Sporting Goods Shop</td>\n",
       "      <td>Soccer Field</td>\n",
       "      <td>Residential Building (Apartment / Condo)</td>\n",
       "    </tr>\n",
       "  </tbody>\n",
       "</table>\n",
       "</div>"
      ],
      "text/plain": [
       "   Neighborhood 1st Most Common Venue 2nd Most Common Venue  \\\n",
       "1        Rabale                   Gym      Basketball Court   \n",
       "12   Mansarovar                   Gym      Volleyball Court   \n",
       "\n",
       "   3rd Most Common Venue 4th Most Common Venue 5th Most Common Venue  \\\n",
       "1            Yoga Studio      Volleyball Court                 Track   \n",
       "12      Basketball Court           Yoga Studio                 Track   \n",
       "\n",
       "   6th Most Common Venue 7th Most Common Venue 8th Most Common Venue  \\\n",
       "1           Tennis Court           Sports Club   Sporting Goods Shop   \n",
       "12          Tennis Court           Sports Club   Sporting Goods Shop   \n",
       "\n",
       "   9th Most Common Venue                    10th Most Common Venue  \n",
       "1           Soccer Field  Residential Building (Apartment / Condo)  \n",
       "12          Soccer Field  Residential Building (Apartment / Condo)  "
      ]
     },
     "execution_count": 35,
     "metadata": {},
     "output_type": "execute_result"
    }
   ],
   "source": [
    "cluster4 = nmum_merged.loc[nmum_merged['Cluster Labels'] == 3, nmum_merged.columns[[0] + list(range(4, nmum_merged.shape[1]))]]\n",
    "cluster4"
   ]
  },
  {
   "cell_type": "markdown",
   "metadata": {},
   "source": [
    "Create a function to plot common venues within each clusters. This will help us find similarity of stations."
   ]
  },
  {
   "cell_type": "code",
   "execution_count": 36,
   "metadata": {},
   "outputs": [],
   "source": [
    "def plot_cluster(df):\n",
    "    plt.figure(figsize=(15,7))\n",
    "    df_plt = pd.melt(df, var_name=\"venue\")  \n",
    "    sns.countplot(data=df_plt, x='venue', hue='value')\n",
    "    plt.xticks(rotation=-45)\n",
    "    plt.legend(bbox_to_anchor=(1,1), loc=2)"
   ]
  },
  {
   "cell_type": "code",
   "execution_count": 37,
   "metadata": {},
   "outputs": [
    {
     "data": {
      "image/png": "[encoded data removed]",
      "text/plain": [
       "<Figure size 1080x504 with 1 Axes>"
      ]
     },
     "metadata": {
      "needs_background": "light"
     },
     "output_type": "display_data"
    }
   ],
   "source": [
    "plot_cluster(cluster1.drop(['Neighborhood'],axis=1))"
   ]
  },
  {
   "cell_type": "code",
   "execution_count": 38,
   "metadata": {},
   "outputs": [
    {
     "data": {
      "image/png": "[encoded data removed]",
      "text/plain": [
       "<Figure size 1080x504 with 1 Axes>"
      ]
     },
     "metadata": {
      "needs_background": "light"
     },
     "output_type": "display_data"
    }
   ],
   "source": [
    "plot_cluster(cluster2.drop(['Neighborhood'],axis=1))"
   ]
  },
  {
   "cell_type": "code",
   "execution_count": 39,
   "metadata": {},
   "outputs": [
    {
     "data": {
      "image/png": "[encoded data removed]",
      "text/plain": [
       "<Figure size 1080x504 with 1 Axes>"
      ]
     },
     "metadata": {
      "needs_background": "light"
     },
     "output_type": "display_data"
    }
   ],
   "source": [
    "plot_cluster(cluster3.drop(['Neighborhood'],axis=1))"
   ]
  },
  {
   "cell_type": "code",
   "execution_count": 40,
   "metadata": {},
   "outputs": [
    {
     "data": {
      "image/png": "[encoded data removed]",
      "text/plain": [
       "<Figure size 1080x504 with 1 Axes>"
      ]
     },
     "metadata": {
      "needs_background": "light"
     },
     "output_type": "display_data"
    }
   ],
   "source": [
    "plot_cluster(cluster4.drop(['Neighborhood'],axis=1))"
   ]
  },
  {
   "cell_type": "markdown",
   "metadata": {},
   "source": [
    "## Conclusion"
   ]
  },
  {
   "cell_type": "markdown",
   "metadata": {},
   "source": [
    "We are successfully able to group Navi Mumbai stations into 4 different groups based on sports venue."
   ]
  },
  {
   "cell_type": "markdown",
   "metadata": {},
   "source": [
    "All the stations are having Gym as their first most common venue. No surprises, it is very common these days."
   ]
  },
  {
   "cell_type": "markdown",
   "metadata": {},
   "source": [
    "Below is a detailed analysis of each cluster:\n",
    "- Cluster 1 (Red) - 3 stations Airoli, Nerul, CBD Belapur; Sports Club\n",
    "- Cluster 2 (Purple) - 4 stations Turbhe, Sanpada, Vashi, Juinagar; Open field games such as Soccer, Golf, Baseball\n",
    "- Cluster 3 (Cyan) - 4 stations Ghansoli, Kopar Khairane, Seawoods-Darave,Khargar; Yoga, Martial Arts, Tennis\n",
    "- Cluster 4 (Pale Yellow) - 2 stations Rabale, Mansarovar; Games played on courts such as Basketball, Volleyball"
   ]
  },
  {
   "cell_type": "markdown",
   "metadata": {},
   "source": [
    "Now, if any person who play sports and visits Navi Mumbai, looking at this map he can decide which place to go depending which sport he wants to play."
   ]
  }
 ],
 "metadata": {
  "kernelspec": {
   "display_name": "Python",
   "language": "python",
   "name": "conda-env-python-py"
  },
  "language_info": {
   "codemirror_mode": {
    "name": "ipython",
    "version": 3
   },
   "file_extension": ".py",
   "mimetype": "text/x-python",
   "name": "python",
   "nbconvert_exporter": "python",
   "pygments_lexer": "ipython3",
   "version": "3.6.10"
  }
 },
 "nbformat": 4,
 "nbformat_minor": 4
}
